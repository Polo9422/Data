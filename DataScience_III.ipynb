{
  "cells": [
    {
      "cell_type": "markdown",
      "metadata": {
        "id": "view-in-github",
        "colab_type": "text"
      },
      "source": [
        "<a href=\"https://colab.research.google.com/github/Polo9422/DataScience-III/blob/main/DataScience_III.ipynb\" target=\"_parent\"><img src=\"https://colab.research.google.com/assets/colab-badge.svg\" alt=\"Open In Colab\"/></a>"
      ]
    },
    {
      "cell_type": "markdown",
      "metadata": {
        "id": "rScLYMpXjz0W"
      },
      "source": [
        "\n",
        "# **Presentación del proyecto**"
      ]
    },
    {
      "cell_type": "markdown",
      "metadata": {
        "id": "j-Uyp5pej4sB"
      },
      "source": [
        "**Abstracto con Motivación y Audiencia**\n",
        "\n",
        "  **Contenido**\n",
        "\n",
        "---\n",
        "\n",
        "Google Play, anteriormente Android Market, es un servicio de distribución digital operado y desarrollado por Google. Funciona como la tienda de aplicaciones oficial para dispositivos certificados que funcionan con el sistema operativo Android, lo que permite a los usuarios explorar y descargar aplicaciones desarrolladas con el kit de desarrollo de software (SDK) de Android y publicadas a través de Google. Ha superado los 82 mil millones de descargas de aplicaciones y más de 3,5 millones de aplicaciones publicadas, lo que la convierte en la tienda de aplicaciones más grande del mundo.\n",
        "\n",
        "Los datos contienen más de 12.000 reseñas de distintas aplicaciones de la tienda de aplicaciones realizadas por usuarios reales. Los datos también contienen la calificación que otorgaron para que se puedan clasificar en reseñas positivas o negativas. Para este análisis solo se trabajo sobre 11967 datos, y solo dos columnas ('userName' y 'content').\n",
        "\n",
        "**Columnas del dataset**\n",
        "\n",
        "\n",
        "\n",
        "*   reviewId: Identificación única asignada a la revisión\n",
        "*   userName: Nombre de usuario de la persona que dio la reseña\n",
        "*   userImage: Imagen Ubicación del usuario que cargó los datos\n",
        "*   content: Contenido en texto de la reseña\n",
        "*   score: Calificación dada a la aplicación por el usuario (1 – 5) donde 5 es lo más positivo y 1 lo más negativo\n",
        "*   thumbsUpCount: Número de usuarios que votaron positivamente la reseña\n",
        "*   reviewCreatedVersion: Versión de la reseña\n",
        "*   at: Fecha y hora en que se publicó la reseña\n",
        "*   replyContent: Responda a la reseña original, si la hay.\n",
        "*   repliedAt: Fecha y hora en que se publicó la respuesta\n",
        "*   sortOrder: Orden utilizado para ordenar la reseña (se utilizó la más reciente)\n",
        "*   appId: ID de la aplicación de Play Store que se está revisando\n",
        "\n",
        "\n",
        "\n",
        "\n",
        "\n",
        "\n",
        "\n",
        "\n",
        "\n",
        "\n",
        "\n",
        "\n",
        "\n",
        "**Motivación y Objetivo**\n",
        "\n",
        "---\n",
        "\n",
        "Este es un muy buen lugar para comenzar a aprender sobre el análisis de sentimientos. El objetivo es poder analizar y clasificar las reseñas para determinar si son positivas o negativas.\n",
        "\n",
        "**Audiencia**\n",
        "\n",
        "---\n",
        "\n",
        "Esta dirigido a todo aquel que quiera comenzar a incurcionar en el NLP, a todo principiante que esta dando sus primeros pasos como yo.\n",
        "\n",
        "**Contexto Comercial y Analítico**\n",
        "\n",
        "---\n",
        "El análisis se centrará en evaluar el sentimiento de las reseñas de usuarios de aplicaciones móviles\n",
        "\n",
        "**Preguntas/Hipótesis a Resolver**\n",
        "\n",
        "---\n",
        "\n",
        "\n",
        "*   ¿Cuál es el sentimiento general (positivo, negativo, neutral) de las reseñas?\n",
        "*   ¿Qué temas o aspectos de la app son mencionados con mayor frecuencia en comentarios positivos y negativos?\n",
        "\n",
        "Hipótesis: ¿Podría ser que los usuarios opten por dar reseñas cuando el producto es malo o al revés?\n",
        "\n",
        "\n",
        "\n"
      ]
    },
    {
      "cell_type": "markdown",
      "metadata": {
        "id": "VquIbcPfoW2j"
      },
      "source": [
        "# Lectura de Datos"
      ]
    },
    {
      "cell_type": "code",
      "execution_count": 1,
      "metadata": {
        "colab": {
          "base_uri": "https://localhost:8080/"
        },
        "id": "QEctibWdhQRR",
        "outputId": "a685f031-7374-4c92-9aa3-4f21afddc407"
      },
      "outputs": [
        {
          "output_type": "stream",
          "name": "stdout",
          "text": [
            "Collecting opendatasets\n",
            "  Downloading opendatasets-0.1.22-py3-none-any.whl.metadata (9.2 kB)\n",
            "Requirement already satisfied: tqdm in /usr/local/lib/python3.10/dist-packages (from opendatasets) (4.66.6)\n",
            "Requirement already satisfied: kaggle in /usr/local/lib/python3.10/dist-packages (from opendatasets) (1.6.17)\n",
            "Requirement already satisfied: click in /usr/local/lib/python3.10/dist-packages (from opendatasets) (8.1.7)\n",
            "Requirement already satisfied: six>=1.10 in /usr/local/lib/python3.10/dist-packages (from kaggle->opendatasets) (1.16.0)\n",
            "Requirement already satisfied: certifi>=2023.7.22 in /usr/local/lib/python3.10/dist-packages (from kaggle->opendatasets) (2024.8.30)\n",
            "Requirement already satisfied: python-dateutil in /usr/local/lib/python3.10/dist-packages (from kaggle->opendatasets) (2.8.2)\n",
            "Requirement already satisfied: requests in /usr/local/lib/python3.10/dist-packages (from kaggle->opendatasets) (2.32.3)\n",
            "Requirement already satisfied: python-slugify in /usr/local/lib/python3.10/dist-packages (from kaggle->opendatasets) (8.0.4)\n",
            "Requirement already satisfied: urllib3 in /usr/local/lib/python3.10/dist-packages (from kaggle->opendatasets) (2.2.3)\n",
            "Requirement already satisfied: bleach in /usr/local/lib/python3.10/dist-packages (from kaggle->opendatasets) (6.2.0)\n",
            "Requirement already satisfied: webencodings in /usr/local/lib/python3.10/dist-packages (from bleach->kaggle->opendatasets) (0.5.1)\n",
            "Requirement already satisfied: text-unidecode>=1.3 in /usr/local/lib/python3.10/dist-packages (from python-slugify->kaggle->opendatasets) (1.3)\n",
            "Requirement already satisfied: charset-normalizer<4,>=2 in /usr/local/lib/python3.10/dist-packages (from requests->kaggle->opendatasets) (3.4.0)\n",
            "Requirement already satisfied: idna<4,>=2.5 in /usr/local/lib/python3.10/dist-packages (from requests->kaggle->opendatasets) (3.10)\n",
            "Downloading opendatasets-0.1.22-py3-none-any.whl (15 kB)\n",
            "Installing collected packages: opendatasets\n",
            "Successfully installed opendatasets-0.1.22\n"
          ]
        }
      ],
      "source": [
        "!pip install opendatasets\n",
        "import opendatasets as od"
      ]
    },
    {
      "cell_type": "code",
      "execution_count": 2,
      "metadata": {
        "colab": {
          "base_uri": "https://localhost:8080/"
        },
        "id": "rj_iE4SBhT9d",
        "outputId": "0d55700a-0ed1-4639-fcfd-6c3de78007eb"
      },
      "outputs": [
        {
          "output_type": "stream",
          "name": "stdout",
          "text": [
            "Please provide your Kaggle credentials to download this dataset. Learn more: http://bit.ly/kaggle-creds\n",
            "Your Kaggle username: juanpolo\n",
            "Your Kaggle Key: ··········\n",
            "Dataset URL: https://www.kaggle.com/datasets/prakharrathi25/google-play-store-reviews\n",
            "Downloading google-play-store-reviews.zip to ./google-play-store-reviews\n"
          ]
        },
        {
          "output_type": "stream",
          "name": "stderr",
          "text": [
            "100%|██████████| 2.55M/2.55M [00:00<00:00, 66.2MB/s]"
          ]
        },
        {
          "output_type": "stream",
          "name": "stdout",
          "text": [
            "\n"
          ]
        },
        {
          "output_type": "stream",
          "name": "stderr",
          "text": [
            "\n"
          ]
        }
      ],
      "source": [
        "dataset_url = 'https://www.kaggle.com/datasets/prakharrathi25/google-play-store-reviews'\n",
        "od.download(dataset_url)\n",
        "\n",
        "#Your Kaggle username: juanpolo\n",
        "#Your Kaggle Key:."
      ]
    },
    {
      "cell_type": "code",
      "execution_count": 3,
      "metadata": {
        "colab": {
          "base_uri": "https://localhost:8080/"
        },
        "id": "8pYUVMTdhf-_",
        "outputId": "383726af-ae46-419b-dd6d-07ac09481580"
      },
      "outputs": [
        {
          "output_type": "execute_result",
          "data": {
            "text/plain": [
              "['reviews.csv']"
            ]
          },
          "metadata": {},
          "execution_count": 3
        }
      ],
      "source": [
        "import os\n",
        "os.chdir('./google-play-store-reviews')\n",
        "os.listdir()"
      ]
    },
    {
      "cell_type": "code",
      "execution_count": 4,
      "metadata": {
        "colab": {
          "base_uri": "https://localhost:8080/",
          "height": 590
        },
        "id": "Dq3fZMlahvCU",
        "outputId": "2e6c2194-c49c-438d-9ce4-f7f3f1a57151"
      },
      "outputs": [
        {
          "output_type": "execute_result",
          "data": {
            "text/plain": [
              "                                            reviewId  \\\n",
              "0  gp:AOqpTOEhZuqSqqWnaKRgv-9ABYdajFUB0WugPGh-SG-...   \n",
              "1  gp:AOqpTOH0WP4IQKBZ2LrdNmFy_YmpPCVrV3diEU9KGm3...   \n",
              "2  gp:AOqpTOEMCkJB8Iq1p-r9dPwnSYadA5BkPWTf32Z1azu...   \n",
              "3  gp:AOqpTOGFrUWuKGycpje8kszj3uwHN6tU_fd4gLVFy9z...   \n",
              "4  gp:AOqpTOHls7DW8wmDFzTkHwxuqFkdNQtKHmO6Pt9jhZE...   \n",
              "\n",
              "                           userName  \\\n",
              "0                          Eric Tie   \n",
              "1                        john alpha   \n",
              "2                       Sudhakar .S   \n",
              "3  SKGflorida@bellsouth.net DAVID S   \n",
              "4                     Louann Stoker   \n",
              "\n",
              "                                           userImage  \\\n",
              "0  https://play-lh.googleusercontent.com/a-/AOh14...   \n",
              "1  https://play-lh.googleusercontent.com/a-/AOh14...   \n",
              "2  https://play-lh.googleusercontent.com/a-/AOh14...   \n",
              "3  https://play-lh.googleusercontent.com/-75aK0WF...   \n",
              "4  https://play-lh.googleusercontent.com/-pBcY_Z-...   \n",
              "\n",
              "                                             content  score  thumbsUpCount  \\\n",
              "0                      I cannot open the app anymore      1              0   \n",
              "1  I have been begging for a refund from this app...      1              0   \n",
              "2  Very costly for the premium version (approx In...      1              0   \n",
              "3  Used to keep me organized, but all the 2020 UP...      1              0   \n",
              "4                                Dan Birthday Oct 28      1              0   \n",
              "\n",
              "  reviewCreatedVersion                   at  \\\n",
              "0              5.4.0.6  2020-10-27 21:24:41   \n",
              "1                  NaN  2020-10-27 14:03:28   \n",
              "2                  NaN  2020-10-27 08:18:40   \n",
              "3                  NaN  2020-10-26 13:28:07   \n",
              "4              5.6.0.7  2020-10-26 06:10:50   \n",
              "\n",
              "                                        replyContent            repliedAt  \\\n",
              "0                                                NaN                  NaN   \n",
              "1  Please note that from checking our records, yo...  2020-10-27 15:05:52   \n",
              "2                                                NaN                  NaN   \n",
              "3  What do you find troublesome about the update?...  2020-10-26 14:58:29   \n",
              "4                                                NaN                  NaN   \n",
              "\n",
              "  sortOrder      appId  \n",
              "0    newest  com.anydo  \n",
              "1    newest  com.anydo  \n",
              "2    newest  com.anydo  \n",
              "3    newest  com.anydo  \n",
              "4    newest  com.anydo  "
            ],
            "text/html": [
              "\n",
              "  <div id=\"df-e74a68b7-cdf6-476a-88c9-ae70de5e0217\" class=\"colab-df-container\">\n",
              "    <div>\n",
              "<style scoped>\n",
              "    .dataframe tbody tr th:only-of-type {\n",
              "        vertical-align: middle;\n",
              "    }\n",
              "\n",
              "    .dataframe tbody tr th {\n",
              "        vertical-align: top;\n",
              "    }\n",
              "\n",
              "    .dataframe thead th {\n",
              "        text-align: right;\n",
              "    }\n",
              "</style>\n",
              "<table border=\"1\" class=\"dataframe\">\n",
              "  <thead>\n",
              "    <tr style=\"text-align: right;\">\n",
              "      <th></th>\n",
              "      <th>reviewId</th>\n",
              "      <th>userName</th>\n",
              "      <th>userImage</th>\n",
              "      <th>content</th>\n",
              "      <th>score</th>\n",
              "      <th>thumbsUpCount</th>\n",
              "      <th>reviewCreatedVersion</th>\n",
              "      <th>at</th>\n",
              "      <th>replyContent</th>\n",
              "      <th>repliedAt</th>\n",
              "      <th>sortOrder</th>\n",
              "      <th>appId</th>\n",
              "    </tr>\n",
              "  </thead>\n",
              "  <tbody>\n",
              "    <tr>\n",
              "      <th>0</th>\n",
              "      <td>gp:AOqpTOEhZuqSqqWnaKRgv-9ABYdajFUB0WugPGh-SG-...</td>\n",
              "      <td>Eric Tie</td>\n",
              "      <td>https://play-lh.googleusercontent.com/a-/AOh14...</td>\n",
              "      <td>I cannot open the app anymore</td>\n",
              "      <td>1</td>\n",
              "      <td>0</td>\n",
              "      <td>5.4.0.6</td>\n",
              "      <td>2020-10-27 21:24:41</td>\n",
              "      <td>NaN</td>\n",
              "      <td>NaN</td>\n",
              "      <td>newest</td>\n",
              "      <td>com.anydo</td>\n",
              "    </tr>\n",
              "    <tr>\n",
              "      <th>1</th>\n",
              "      <td>gp:AOqpTOH0WP4IQKBZ2LrdNmFy_YmpPCVrV3diEU9KGm3...</td>\n",
              "      <td>john alpha</td>\n",
              "      <td>https://play-lh.googleusercontent.com/a-/AOh14...</td>\n",
              "      <td>I have been begging for a refund from this app...</td>\n",
              "      <td>1</td>\n",
              "      <td>0</td>\n",
              "      <td>NaN</td>\n",
              "      <td>2020-10-27 14:03:28</td>\n",
              "      <td>Please note that from checking our records, yo...</td>\n",
              "      <td>2020-10-27 15:05:52</td>\n",
              "      <td>newest</td>\n",
              "      <td>com.anydo</td>\n",
              "    </tr>\n",
              "    <tr>\n",
              "      <th>2</th>\n",
              "      <td>gp:AOqpTOEMCkJB8Iq1p-r9dPwnSYadA5BkPWTf32Z1azu...</td>\n",
              "      <td>Sudhakar .S</td>\n",
              "      <td>https://play-lh.googleusercontent.com/a-/AOh14...</td>\n",
              "      <td>Very costly for the premium version (approx In...</td>\n",
              "      <td>1</td>\n",
              "      <td>0</td>\n",
              "      <td>NaN</td>\n",
              "      <td>2020-10-27 08:18:40</td>\n",
              "      <td>NaN</td>\n",
              "      <td>NaN</td>\n",
              "      <td>newest</td>\n",
              "      <td>com.anydo</td>\n",
              "    </tr>\n",
              "    <tr>\n",
              "      <th>3</th>\n",
              "      <td>gp:AOqpTOGFrUWuKGycpje8kszj3uwHN6tU_fd4gLVFy9z...</td>\n",
              "      <td>SKGflorida@bellsouth.net DAVID S</td>\n",
              "      <td>https://play-lh.googleusercontent.com/-75aK0WF...</td>\n",
              "      <td>Used to keep me organized, but all the 2020 UP...</td>\n",
              "      <td>1</td>\n",
              "      <td>0</td>\n",
              "      <td>NaN</td>\n",
              "      <td>2020-10-26 13:28:07</td>\n",
              "      <td>What do you find troublesome about the update?...</td>\n",
              "      <td>2020-10-26 14:58:29</td>\n",
              "      <td>newest</td>\n",
              "      <td>com.anydo</td>\n",
              "    </tr>\n",
              "    <tr>\n",
              "      <th>4</th>\n",
              "      <td>gp:AOqpTOHls7DW8wmDFzTkHwxuqFkdNQtKHmO6Pt9jhZE...</td>\n",
              "      <td>Louann Stoker</td>\n",
              "      <td>https://play-lh.googleusercontent.com/-pBcY_Z-...</td>\n",
              "      <td>Dan Birthday Oct 28</td>\n",
              "      <td>1</td>\n",
              "      <td>0</td>\n",
              "      <td>5.6.0.7</td>\n",
              "      <td>2020-10-26 06:10:50</td>\n",
              "      <td>NaN</td>\n",
              "      <td>NaN</td>\n",
              "      <td>newest</td>\n",
              "      <td>com.anydo</td>\n",
              "    </tr>\n",
              "  </tbody>\n",
              "</table>\n",
              "</div>\n",
              "    <div class=\"colab-df-buttons\">\n",
              "\n",
              "  <div class=\"colab-df-container\">\n",
              "    <button class=\"colab-df-convert\" onclick=\"convertToInteractive('df-e74a68b7-cdf6-476a-88c9-ae70de5e0217')\"\n",
              "            title=\"Convert this dataframe to an interactive table.\"\n",
              "            style=\"display:none;\">\n",
              "\n",
              "  <svg xmlns=\"http://www.w3.org/2000/svg\" height=\"24px\" viewBox=\"0 -960 960 960\">\n",
              "    <path d=\"M120-120v-720h720v720H120Zm60-500h600v-160H180v160Zm220 220h160v-160H400v160Zm0 220h160v-160H400v160ZM180-400h160v-160H180v160Zm440 0h160v-160H620v160ZM180-180h160v-160H180v160Zm440 0h160v-160H620v160Z\"/>\n",
              "  </svg>\n",
              "    </button>\n",
              "\n",
              "  <style>\n",
              "    .colab-df-container {\n",
              "      display:flex;\n",
              "      gap: 12px;\n",
              "    }\n",
              "\n",
              "    .colab-df-convert {\n",
              "      background-color: #E8F0FE;\n",
              "      border: none;\n",
              "      border-radius: 50%;\n",
              "      cursor: pointer;\n",
              "      display: none;\n",
              "      fill: #1967D2;\n",
              "      height: 32px;\n",
              "      padding: 0 0 0 0;\n",
              "      width: 32px;\n",
              "    }\n",
              "\n",
              "    .colab-df-convert:hover {\n",
              "      background-color: #E2EBFA;\n",
              "      box-shadow: 0px 1px 2px rgba(60, 64, 67, 0.3), 0px 1px 3px 1px rgba(60, 64, 67, 0.15);\n",
              "      fill: #174EA6;\n",
              "    }\n",
              "\n",
              "    .colab-df-buttons div {\n",
              "      margin-bottom: 4px;\n",
              "    }\n",
              "\n",
              "    [theme=dark] .colab-df-convert {\n",
              "      background-color: #3B4455;\n",
              "      fill: #D2E3FC;\n",
              "    }\n",
              "\n",
              "    [theme=dark] .colab-df-convert:hover {\n",
              "      background-color: #434B5C;\n",
              "      box-shadow: 0px 1px 3px 1px rgba(0, 0, 0, 0.15);\n",
              "      filter: drop-shadow(0px 1px 2px rgba(0, 0, 0, 0.3));\n",
              "      fill: #FFFFFF;\n",
              "    }\n",
              "  </style>\n",
              "\n",
              "    <script>\n",
              "      const buttonEl =\n",
              "        document.querySelector('#df-e74a68b7-cdf6-476a-88c9-ae70de5e0217 button.colab-df-convert');\n",
              "      buttonEl.style.display =\n",
              "        google.colab.kernel.accessAllowed ? 'block' : 'none';\n",
              "\n",
              "      async function convertToInteractive(key) {\n",
              "        const element = document.querySelector('#df-e74a68b7-cdf6-476a-88c9-ae70de5e0217');\n",
              "        const dataTable =\n",
              "          await google.colab.kernel.invokeFunction('convertToInteractive',\n",
              "                                                    [key], {});\n",
              "        if (!dataTable) return;\n",
              "\n",
              "        const docLinkHtml = 'Like what you see? Visit the ' +\n",
              "          '<a target=\"_blank\" href=https://colab.research.google.com/notebooks/data_table.ipynb>data table notebook</a>'\n",
              "          + ' to learn more about interactive tables.';\n",
              "        element.innerHTML = '';\n",
              "        dataTable['output_type'] = 'display_data';\n",
              "        await google.colab.output.renderOutput(dataTable, element);\n",
              "        const docLink = document.createElement('div');\n",
              "        docLink.innerHTML = docLinkHtml;\n",
              "        element.appendChild(docLink);\n",
              "      }\n",
              "    </script>\n",
              "  </div>\n",
              "\n",
              "\n",
              "<div id=\"df-05a8421c-7577-445c-9489-030ba463afe9\">\n",
              "  <button class=\"colab-df-quickchart\" onclick=\"quickchart('df-05a8421c-7577-445c-9489-030ba463afe9')\"\n",
              "            title=\"Suggest charts\"\n",
              "            style=\"display:none;\">\n",
              "\n",
              "<svg xmlns=\"http://www.w3.org/2000/svg\" height=\"24px\"viewBox=\"0 0 24 24\"\n",
              "     width=\"24px\">\n",
              "    <g>\n",
              "        <path d=\"M19 3H5c-1.1 0-2 .9-2 2v14c0 1.1.9 2 2 2h14c1.1 0 2-.9 2-2V5c0-1.1-.9-2-2-2zM9 17H7v-7h2v7zm4 0h-2V7h2v10zm4 0h-2v-4h2v4z\"/>\n",
              "    </g>\n",
              "</svg>\n",
              "  </button>\n",
              "\n",
              "<style>\n",
              "  .colab-df-quickchart {\n",
              "      --bg-color: #E8F0FE;\n",
              "      --fill-color: #1967D2;\n",
              "      --hover-bg-color: #E2EBFA;\n",
              "      --hover-fill-color: #174EA6;\n",
              "      --disabled-fill-color: #AAA;\n",
              "      --disabled-bg-color: #DDD;\n",
              "  }\n",
              "\n",
              "  [theme=dark] .colab-df-quickchart {\n",
              "      --bg-color: #3B4455;\n",
              "      --fill-color: #D2E3FC;\n",
              "      --hover-bg-color: #434B5C;\n",
              "      --hover-fill-color: #FFFFFF;\n",
              "      --disabled-bg-color: #3B4455;\n",
              "      --disabled-fill-color: #666;\n",
              "  }\n",
              "\n",
              "  .colab-df-quickchart {\n",
              "    background-color: var(--bg-color);\n",
              "    border: none;\n",
              "    border-radius: 50%;\n",
              "    cursor: pointer;\n",
              "    display: none;\n",
              "    fill: var(--fill-color);\n",
              "    height: 32px;\n",
              "    padding: 0;\n",
              "    width: 32px;\n",
              "  }\n",
              "\n",
              "  .colab-df-quickchart:hover {\n",
              "    background-color: var(--hover-bg-color);\n",
              "    box-shadow: 0 1px 2px rgba(60, 64, 67, 0.3), 0 1px 3px 1px rgba(60, 64, 67, 0.15);\n",
              "    fill: var(--button-hover-fill-color);\n",
              "  }\n",
              "\n",
              "  .colab-df-quickchart-complete:disabled,\n",
              "  .colab-df-quickchart-complete:disabled:hover {\n",
              "    background-color: var(--disabled-bg-color);\n",
              "    fill: var(--disabled-fill-color);\n",
              "    box-shadow: none;\n",
              "  }\n",
              "\n",
              "  .colab-df-spinner {\n",
              "    border: 2px solid var(--fill-color);\n",
              "    border-color: transparent;\n",
              "    border-bottom-color: var(--fill-color);\n",
              "    animation:\n",
              "      spin 1s steps(1) infinite;\n",
              "  }\n",
              "\n",
              "  @keyframes spin {\n",
              "    0% {\n",
              "      border-color: transparent;\n",
              "      border-bottom-color: var(--fill-color);\n",
              "      border-left-color: var(--fill-color);\n",
              "    }\n",
              "    20% {\n",
              "      border-color: transparent;\n",
              "      border-left-color: var(--fill-color);\n",
              "      border-top-color: var(--fill-color);\n",
              "    }\n",
              "    30% {\n",
              "      border-color: transparent;\n",
              "      border-left-color: var(--fill-color);\n",
              "      border-top-color: var(--fill-color);\n",
              "      border-right-color: var(--fill-color);\n",
              "    }\n",
              "    40% {\n",
              "      border-color: transparent;\n",
              "      border-right-color: var(--fill-color);\n",
              "      border-top-color: var(--fill-color);\n",
              "    }\n",
              "    60% {\n",
              "      border-color: transparent;\n",
              "      border-right-color: var(--fill-color);\n",
              "    }\n",
              "    80% {\n",
              "      border-color: transparent;\n",
              "      border-right-color: var(--fill-color);\n",
              "      border-bottom-color: var(--fill-color);\n",
              "    }\n",
              "    90% {\n",
              "      border-color: transparent;\n",
              "      border-bottom-color: var(--fill-color);\n",
              "    }\n",
              "  }\n",
              "</style>\n",
              "\n",
              "  <script>\n",
              "    async function quickchart(key) {\n",
              "      const quickchartButtonEl =\n",
              "        document.querySelector('#' + key + ' button');\n",
              "      quickchartButtonEl.disabled = true;  // To prevent multiple clicks.\n",
              "      quickchartButtonEl.classList.add('colab-df-spinner');\n",
              "      try {\n",
              "        const charts = await google.colab.kernel.invokeFunction(\n",
              "            'suggestCharts', [key], {});\n",
              "      } catch (error) {\n",
              "        console.error('Error during call to suggestCharts:', error);\n",
              "      }\n",
              "      quickchartButtonEl.classList.remove('colab-df-spinner');\n",
              "      quickchartButtonEl.classList.add('colab-df-quickchart-complete');\n",
              "    }\n",
              "    (() => {\n",
              "      let quickchartButtonEl =\n",
              "        document.querySelector('#df-05a8421c-7577-445c-9489-030ba463afe9 button');\n",
              "      quickchartButtonEl.style.display =\n",
              "        google.colab.kernel.accessAllowed ? 'block' : 'none';\n",
              "    })();\n",
              "  </script>\n",
              "</div>\n",
              "\n",
              "    </div>\n",
              "  </div>\n"
            ],
            "application/vnd.google.colaboratory.intrinsic+json": {
              "type": "dataframe",
              "variable_name": "df",
              "summary": "{\n  \"name\": \"df\",\n  \"rows\": 12495,\n  \"fields\": [\n    {\n      \"column\": \"reviewId\",\n      \"properties\": {\n        \"dtype\": \"string\",\n        \"num_unique_values\": 12495,\n        \"samples\": [\n          \"gp:AOqpTOFFymtN3nnbHJrkAjHfBO5eLncdMIsvSs9EXdjs0XIebapApViAjD2jHzLGME8aAVhIdvI1_m5Z6i57bQ\",\n          \"gp:AOqpTOE4HAQqHMoeH_sGJ850PeeCeB64_AY-eGqyhDx32tRRJE4QEkEPA8W4csLx23gURZzZwR-XXBudqVmfsQ\",\n          \"gp:AOqpTOH8mznEDPIiBSAGFgbbG56CX-Bi5otRxNelmUH6-d2xO06NQ92NGRLVweXj00D4thvw6qdUNCJvQ9LFKWE\"\n        ],\n        \"semantic_type\": \"\",\n        \"description\": \"\"\n      }\n    },\n    {\n      \"column\": \"userName\",\n      \"properties\": {\n        \"dtype\": \"string\",\n        \"num_unique_values\": 11967,\n        \"samples\": [\n          \"Pat Homer\",\n          \"Jordan Roath\",\n          \"Jessica Baxter\"\n        ],\n        \"semantic_type\": \"\",\n        \"description\": \"\"\n      }\n    },\n    {\n      \"column\": \"userImage\",\n      \"properties\": {\n        \"dtype\": \"string\",\n        \"num_unique_values\": 12037,\n        \"samples\": [\n          \"https://play-lh.googleusercontent.com/-i-beL99jMVU/AAAAAAAAAAI/AAAAAAAAAAA/AMZuucm4YIAwT0gWDdRF6SKzbCW0oVV7fQ/photo.jpg\",\n          \"https://play-lh.googleusercontent.com/-341OY-HCJsI/AAAAAAAAAAI/AAAAAAAAAAA/AMZuucnUgK9GSRBapnTTRQi-LRgnmZrCmg/photo.jpg\",\n          \"https://play-lh.googleusercontent.com/a-/AOh14GjBrkWT9MhPZaxYXucZjFinkwXG1kOSVZdhRS4Erw\"\n        ],\n        \"semantic_type\": \"\",\n        \"description\": \"\"\n      }\n    },\n    {\n      \"column\": \"content\",\n      \"properties\": {\n        \"dtype\": \"string\",\n        \"num_unique_values\": 11807,\n        \"samples\": [\n          \"Awesome app! Easier to keep track of schedule and never forget a thing.\",\n          \"This app is perfect for my needs but there is one issue that I just noticed on repeated tasks. Once you hit complete the task, it will not add automaticly the next task. You have to check and then uncheck the task in order to show the next repeated task. Otherwise if you leave the task checked, it will not remind you for the next repeated task.\",\n          \"Non-functional with Google account. Was great, but can't use right now.\"\n        ],\n        \"semantic_type\": \"\",\n        \"description\": \"\"\n      }\n    },\n    {\n      \"column\": \"score\",\n      \"properties\": {\n        \"dtype\": \"number\",\n        \"std\": 1,\n        \"min\": 1,\n        \"max\": 5,\n        \"num_unique_values\": 5,\n        \"samples\": [\n          2,\n          5,\n          3\n        ],\n        \"semantic_type\": \"\",\n        \"description\": \"\"\n      }\n    },\n    {\n      \"column\": \"thumbsUpCount\",\n      \"properties\": {\n        \"dtype\": \"number\",\n        \"std\": 14,\n        \"min\": 0,\n        \"max\": 397,\n        \"num_unique_values\": 139,\n        \"samples\": [\n          162,\n          73,\n          49\n        ],\n        \"semantic_type\": \"\",\n        \"description\": \"\"\n      }\n    },\n    {\n      \"column\": \"reviewCreatedVersion\",\n      \"properties\": {\n        \"dtype\": \"category\",\n        \"num_unique_values\": 497,\n        \"samples\": [\n          \"4.3.6\",\n          \"15.2.0\",\n          \"3.8\"\n        ],\n        \"semantic_type\": \"\",\n        \"description\": \"\"\n      }\n    },\n    {\n      \"column\": \"at\",\n      \"properties\": {\n        \"dtype\": \"object\",\n        \"num_unique_values\": 12491,\n        \"samples\": [\n          \"2020-04-01 11:31:38\",\n          \"2020-10-24 03:02:55\",\n          \"2020-09-29 02:38:52\"\n        ],\n        \"semantic_type\": \"\",\n        \"description\": \"\"\n      }\n    },\n    {\n      \"column\": \"replyContent\",\n      \"properties\": {\n        \"dtype\": \"category\",\n        \"num_unique_values\": 4781,\n        \"samples\": [\n          \"Sad rating  ;(\",\n          \"Hi, please remember that BC is the Android app i.e. it is developed for Android devices only. A desktop version would be a completely different platform, which would require new code = new app. Currently we do not have the capacity to develop a new app as our small team of developers is constantly involved in the development of BC 2 Android app\",\n          \"\\ud83d\\udc97\\ud83d\\ude0a\"\n        ],\n        \"semantic_type\": \"\",\n        \"description\": \"\"\n      }\n    },\n    {\n      \"column\": \"repliedAt\",\n      \"properties\": {\n        \"dtype\": \"date\",\n        \"min\": \"2013-01-14 13:17:53\",\n        \"max\": \"2020-10-28 01:36:33\",\n        \"num_unique_values\": 5818,\n        \"samples\": [\n          \"2020-09-15 13:25:15\",\n          \"2020-04-03 09:18:54\",\n          \"2017-09-04 02:28:41\"\n        ],\n        \"semantic_type\": \"\",\n        \"description\": \"\"\n      }\n    },\n    {\n      \"column\": \"sortOrder\",\n      \"properties\": {\n        \"dtype\": \"category\",\n        \"num_unique_values\": 1,\n        \"samples\": [\n          \"newest\"\n        ],\n        \"semantic_type\": \"\",\n        \"description\": \"\"\n      }\n    },\n    {\n      \"column\": \"appId\",\n      \"properties\": {\n        \"dtype\": \"category\",\n        \"num_unique_values\": 15,\n        \"samples\": [\n          \"prox.lab.calclock\"\n        ],\n        \"semantic_type\": \"\",\n        \"description\": \"\"\n      }\n    }\n  ]\n}"
            }
          },
          "metadata": {},
          "execution_count": 4
        }
      ],
      "source": [
        "import pandas as pd\n",
        "archivo=pd.read_csv('reviews.csv')\n",
        "df=pd.DataFrame(archivo)\n",
        "df.head()"
      ]
    },
    {
      "cell_type": "code",
      "execution_count": 5,
      "metadata": {
        "colab": {
          "base_uri": "https://localhost:8080/"
        },
        "id": "z10xVGJgnF0P",
        "outputId": "a862c424-e1c0-4a16-b9b5-04d69dec6447"
      },
      "outputs": [
        {
          "output_type": "execute_result",
          "data": {
            "text/plain": [
              "(12495, 12)"
            ]
          },
          "metadata": {},
          "execution_count": 5
        }
      ],
      "source": [
        "df.shape"
      ]
    },
    {
      "cell_type": "code",
      "execution_count": 6,
      "metadata": {
        "colab": {
          "base_uri": "https://localhost:8080/"
        },
        "id": "sKnwmkKNj92K",
        "outputId": "8e5bcfcb-658f-473c-b44b-7163f47a88ee"
      },
      "outputs": [
        {
          "output_type": "stream",
          "name": "stdout",
          "text": [
            "11967\n"
          ]
        }
      ],
      "source": [
        "valores_unicos=df['userName'].nunique()\n",
        "print(valores_unicos)\n"
      ]
    },
    {
      "cell_type": "code",
      "execution_count": 7,
      "metadata": {
        "colab": {
          "base_uri": "https://localhost:8080/",
          "height": 293
        },
        "id": "HV_I1fwpmVEu",
        "outputId": "885d5c25-c198-409d-a5ab-f7aaa56dc617"
      },
      "outputs": [
        {
          "output_type": "stream",
          "name": "stderr",
          "text": [
            "<ipython-input-7-6b2c508c781e>:2: SettingWithCopyWarning: \n",
            "A value is trying to be set on a copy of a slice from a DataFrame\n",
            "\n",
            "See the caveats in the documentation: https://pandas.pydata.org/pandas-docs/stable/user_guide/indexing.html#returning-a-view-versus-a-copy\n",
            "  df_reviews.drop_duplicates(inplace=True)\n"
          ]
        },
        {
          "output_type": "execute_result",
          "data": {
            "text/plain": [
              "                           userName  \\\n",
              "0                          Eric Tie   \n",
              "1                        john alpha   \n",
              "2                       Sudhakar .S   \n",
              "3  SKGflorida@bellsouth.net DAVID S   \n",
              "4                     Louann Stoker   \n",
              "\n",
              "                                             content  \n",
              "0                      I cannot open the app anymore  \n",
              "1  I have been begging for a refund from this app...  \n",
              "2  Very costly for the premium version (approx In...  \n",
              "3  Used to keep me organized, but all the 2020 UP...  \n",
              "4                                Dan Birthday Oct 28  "
            ],
            "text/html": [
              "\n",
              "  <div id=\"df-ebced18d-4299-43d1-9aab-760cf84625d8\" class=\"colab-df-container\">\n",
              "    <div>\n",
              "<style scoped>\n",
              "    .dataframe tbody tr th:only-of-type {\n",
              "        vertical-align: middle;\n",
              "    }\n",
              "\n",
              "    .dataframe tbody tr th {\n",
              "        vertical-align: top;\n",
              "    }\n",
              "\n",
              "    .dataframe thead th {\n",
              "        text-align: right;\n",
              "    }\n",
              "</style>\n",
              "<table border=\"1\" class=\"dataframe\">\n",
              "  <thead>\n",
              "    <tr style=\"text-align: right;\">\n",
              "      <th></th>\n",
              "      <th>userName</th>\n",
              "      <th>content</th>\n",
              "    </tr>\n",
              "  </thead>\n",
              "  <tbody>\n",
              "    <tr>\n",
              "      <th>0</th>\n",
              "      <td>Eric Tie</td>\n",
              "      <td>I cannot open the app anymore</td>\n",
              "    </tr>\n",
              "    <tr>\n",
              "      <th>1</th>\n",
              "      <td>john alpha</td>\n",
              "      <td>I have been begging for a refund from this app...</td>\n",
              "    </tr>\n",
              "    <tr>\n",
              "      <th>2</th>\n",
              "      <td>Sudhakar .S</td>\n",
              "      <td>Very costly for the premium version (approx In...</td>\n",
              "    </tr>\n",
              "    <tr>\n",
              "      <th>3</th>\n",
              "      <td>SKGflorida@bellsouth.net DAVID S</td>\n",
              "      <td>Used to keep me organized, but all the 2020 UP...</td>\n",
              "    </tr>\n",
              "    <tr>\n",
              "      <th>4</th>\n",
              "      <td>Louann Stoker</td>\n",
              "      <td>Dan Birthday Oct 28</td>\n",
              "    </tr>\n",
              "  </tbody>\n",
              "</table>\n",
              "</div>\n",
              "    <div class=\"colab-df-buttons\">\n",
              "\n",
              "  <div class=\"colab-df-container\">\n",
              "    <button class=\"colab-df-convert\" onclick=\"convertToInteractive('df-ebced18d-4299-43d1-9aab-760cf84625d8')\"\n",
              "            title=\"Convert this dataframe to an interactive table.\"\n",
              "            style=\"display:none;\">\n",
              "\n",
              "  <svg xmlns=\"http://www.w3.org/2000/svg\" height=\"24px\" viewBox=\"0 -960 960 960\">\n",
              "    <path d=\"M120-120v-720h720v720H120Zm60-500h600v-160H180v160Zm220 220h160v-160H400v160Zm0 220h160v-160H400v160ZM180-400h160v-160H180v160Zm440 0h160v-160H620v160ZM180-180h160v-160H180v160Zm440 0h160v-160H620v160Z\"/>\n",
              "  </svg>\n",
              "    </button>\n",
              "\n",
              "  <style>\n",
              "    .colab-df-container {\n",
              "      display:flex;\n",
              "      gap: 12px;\n",
              "    }\n",
              "\n",
              "    .colab-df-convert {\n",
              "      background-color: #E8F0FE;\n",
              "      border: none;\n",
              "      border-radius: 50%;\n",
              "      cursor: pointer;\n",
              "      display: none;\n",
              "      fill: #1967D2;\n",
              "      height: 32px;\n",
              "      padding: 0 0 0 0;\n",
              "      width: 32px;\n",
              "    }\n",
              "\n",
              "    .colab-df-convert:hover {\n",
              "      background-color: #E2EBFA;\n",
              "      box-shadow: 0px 1px 2px rgba(60, 64, 67, 0.3), 0px 1px 3px 1px rgba(60, 64, 67, 0.15);\n",
              "      fill: #174EA6;\n",
              "    }\n",
              "\n",
              "    .colab-df-buttons div {\n",
              "      margin-bottom: 4px;\n",
              "    }\n",
              "\n",
              "    [theme=dark] .colab-df-convert {\n",
              "      background-color: #3B4455;\n",
              "      fill: #D2E3FC;\n",
              "    }\n",
              "\n",
              "    [theme=dark] .colab-df-convert:hover {\n",
              "      background-color: #434B5C;\n",
              "      box-shadow: 0px 1px 3px 1px rgba(0, 0, 0, 0.15);\n",
              "      filter: drop-shadow(0px 1px 2px rgba(0, 0, 0, 0.3));\n",
              "      fill: #FFFFFF;\n",
              "    }\n",
              "  </style>\n",
              "\n",
              "    <script>\n",
              "      const buttonEl =\n",
              "        document.querySelector('#df-ebced18d-4299-43d1-9aab-760cf84625d8 button.colab-df-convert');\n",
              "      buttonEl.style.display =\n",
              "        google.colab.kernel.accessAllowed ? 'block' : 'none';\n",
              "\n",
              "      async function convertToInteractive(key) {\n",
              "        const element = document.querySelector('#df-ebced18d-4299-43d1-9aab-760cf84625d8');\n",
              "        const dataTable =\n",
              "          await google.colab.kernel.invokeFunction('convertToInteractive',\n",
              "                                                    [key], {});\n",
              "        if (!dataTable) return;\n",
              "\n",
              "        const docLinkHtml = 'Like what you see? Visit the ' +\n",
              "          '<a target=\"_blank\" href=https://colab.research.google.com/notebooks/data_table.ipynb>data table notebook</a>'\n",
              "          + ' to learn more about interactive tables.';\n",
              "        element.innerHTML = '';\n",
              "        dataTable['output_type'] = 'display_data';\n",
              "        await google.colab.output.renderOutput(dataTable, element);\n",
              "        const docLink = document.createElement('div');\n",
              "        docLink.innerHTML = docLinkHtml;\n",
              "        element.appendChild(docLink);\n",
              "      }\n",
              "    </script>\n",
              "  </div>\n",
              "\n",
              "\n",
              "<div id=\"df-1cd7ec73-7da0-457b-99fb-3183161a9714\">\n",
              "  <button class=\"colab-df-quickchart\" onclick=\"quickchart('df-1cd7ec73-7da0-457b-99fb-3183161a9714')\"\n",
              "            title=\"Suggest charts\"\n",
              "            style=\"display:none;\">\n",
              "\n",
              "<svg xmlns=\"http://www.w3.org/2000/svg\" height=\"24px\"viewBox=\"0 0 24 24\"\n",
              "     width=\"24px\">\n",
              "    <g>\n",
              "        <path d=\"M19 3H5c-1.1 0-2 .9-2 2v14c0 1.1.9 2 2 2h14c1.1 0 2-.9 2-2V5c0-1.1-.9-2-2-2zM9 17H7v-7h2v7zm4 0h-2V7h2v10zm4 0h-2v-4h2v4z\"/>\n",
              "    </g>\n",
              "</svg>\n",
              "  </button>\n",
              "\n",
              "<style>\n",
              "  .colab-df-quickchart {\n",
              "      --bg-color: #E8F0FE;\n",
              "      --fill-color: #1967D2;\n",
              "      --hover-bg-color: #E2EBFA;\n",
              "      --hover-fill-color: #174EA6;\n",
              "      --disabled-fill-color: #AAA;\n",
              "      --disabled-bg-color: #DDD;\n",
              "  }\n",
              "\n",
              "  [theme=dark] .colab-df-quickchart {\n",
              "      --bg-color: #3B4455;\n",
              "      --fill-color: #D2E3FC;\n",
              "      --hover-bg-color: #434B5C;\n",
              "      --hover-fill-color: #FFFFFF;\n",
              "      --disabled-bg-color: #3B4455;\n",
              "      --disabled-fill-color: #666;\n",
              "  }\n",
              "\n",
              "  .colab-df-quickchart {\n",
              "    background-color: var(--bg-color);\n",
              "    border: none;\n",
              "    border-radius: 50%;\n",
              "    cursor: pointer;\n",
              "    display: none;\n",
              "    fill: var(--fill-color);\n",
              "    height: 32px;\n",
              "    padding: 0;\n",
              "    width: 32px;\n",
              "  }\n",
              "\n",
              "  .colab-df-quickchart:hover {\n",
              "    background-color: var(--hover-bg-color);\n",
              "    box-shadow: 0 1px 2px rgba(60, 64, 67, 0.3), 0 1px 3px 1px rgba(60, 64, 67, 0.15);\n",
              "    fill: var(--button-hover-fill-color);\n",
              "  }\n",
              "\n",
              "  .colab-df-quickchart-complete:disabled,\n",
              "  .colab-df-quickchart-complete:disabled:hover {\n",
              "    background-color: var(--disabled-bg-color);\n",
              "    fill: var(--disabled-fill-color);\n",
              "    box-shadow: none;\n",
              "  }\n",
              "\n",
              "  .colab-df-spinner {\n",
              "    border: 2px solid var(--fill-color);\n",
              "    border-color: transparent;\n",
              "    border-bottom-color: var(--fill-color);\n",
              "    animation:\n",
              "      spin 1s steps(1) infinite;\n",
              "  }\n",
              "\n",
              "  @keyframes spin {\n",
              "    0% {\n",
              "      border-color: transparent;\n",
              "      border-bottom-color: var(--fill-color);\n",
              "      border-left-color: var(--fill-color);\n",
              "    }\n",
              "    20% {\n",
              "      border-color: transparent;\n",
              "      border-left-color: var(--fill-color);\n",
              "      border-top-color: var(--fill-color);\n",
              "    }\n",
              "    30% {\n",
              "      border-color: transparent;\n",
              "      border-left-color: var(--fill-color);\n",
              "      border-top-color: var(--fill-color);\n",
              "      border-right-color: var(--fill-color);\n",
              "    }\n",
              "    40% {\n",
              "      border-color: transparent;\n",
              "      border-right-color: var(--fill-color);\n",
              "      border-top-color: var(--fill-color);\n",
              "    }\n",
              "    60% {\n",
              "      border-color: transparent;\n",
              "      border-right-color: var(--fill-color);\n",
              "    }\n",
              "    80% {\n",
              "      border-color: transparent;\n",
              "      border-right-color: var(--fill-color);\n",
              "      border-bottom-color: var(--fill-color);\n",
              "    }\n",
              "    90% {\n",
              "      border-color: transparent;\n",
              "      border-bottom-color: var(--fill-color);\n",
              "    }\n",
              "  }\n",
              "</style>\n",
              "\n",
              "  <script>\n",
              "    async function quickchart(key) {\n",
              "      const quickchartButtonEl =\n",
              "        document.querySelector('#' + key + ' button');\n",
              "      quickchartButtonEl.disabled = true;  // To prevent multiple clicks.\n",
              "      quickchartButtonEl.classList.add('colab-df-spinner');\n",
              "      try {\n",
              "        const charts = await google.colab.kernel.invokeFunction(\n",
              "            'suggestCharts', [key], {});\n",
              "      } catch (error) {\n",
              "        console.error('Error during call to suggestCharts:', error);\n",
              "      }\n",
              "      quickchartButtonEl.classList.remove('colab-df-spinner');\n",
              "      quickchartButtonEl.classList.add('colab-df-quickchart-complete');\n",
              "    }\n",
              "    (() => {\n",
              "      let quickchartButtonEl =\n",
              "        document.querySelector('#df-1cd7ec73-7da0-457b-99fb-3183161a9714 button');\n",
              "      quickchartButtonEl.style.display =\n",
              "        google.colab.kernel.accessAllowed ? 'block' : 'none';\n",
              "    })();\n",
              "  </script>\n",
              "</div>\n",
              "\n",
              "    </div>\n",
              "  </div>\n"
            ],
            "application/vnd.google.colaboratory.intrinsic+json": {
              "type": "dataframe",
              "variable_name": "df_reviews",
              "summary": "{\n  \"name\": \"df_reviews\",\n  \"rows\": 12484,\n  \"fields\": [\n    {\n      \"column\": \"userName\",\n      \"properties\": {\n        \"dtype\": \"string\",\n        \"num_unique_values\": 11967,\n        \"samples\": [\n          \"Pat Homer\",\n          \"Jordan Roath\",\n          \"Jessica Baxter\"\n        ],\n        \"semantic_type\": \"\",\n        \"description\": \"\"\n      }\n    },\n    {\n      \"column\": \"content\",\n      \"properties\": {\n        \"dtype\": \"string\",\n        \"num_unique_values\": 11807,\n        \"samples\": [\n          \"Awesome app! Easier to keep track of schedule and never forget a thing.\",\n          \"This app is perfect for my needs but there is one issue that I just noticed on repeated tasks. Once you hit complete the task, it will not add automaticly the next task. You have to check and then uncheck the task in order to show the next repeated task. Otherwise if you leave the task checked, it will not remind you for the next repeated task.\",\n          \"Non-functional with Google account. Was great, but can't use right now.\"\n        ],\n        \"semantic_type\": \"\",\n        \"description\": \"\"\n      }\n    }\n  ]\n}"
            }
          },
          "metadata": {},
          "execution_count": 7
        }
      ],
      "source": [
        "df_reviews=df[['userName','content']]\n",
        "df_reviews.drop_duplicates(inplace=True)\n",
        "df_reviews.head()"
      ]
    },
    {
      "cell_type": "markdown",
      "metadata": {
        "id": "7SmmkijeoTB7"
      },
      "source": [
        "# Análisis exploratorio de datos (EDA) Inicial"
      ]
    },
    {
      "cell_type": "code",
      "execution_count": 8,
      "metadata": {
        "id": "GFazlz8Rqn5i"
      },
      "outputs": [],
      "source": [
        "import nltk\n",
        "import string\n",
        "import matplotlib.pyplot as plt\n",
        "from collections import Counter\n",
        "\n",
        "\n",
        "# Función para preprocesar una oración\n",
        "def preprocess(sentence):\n",
        "    # Convertir a minúsculas\n",
        "    sentence = sentence.lower()\n",
        "\n",
        "    # Eliminar signos de puntuación\n",
        "    translator = str.maketrans('', '', string.punctuation)\n",
        "    sentence = sentence.translate(translator)\n",
        "\n",
        "    # Tokenizar la oración (dividir en palabras)\n",
        "    words = sentence.split()\n",
        "\n",
        "    return words\n",
        "\n",
        "# Aplicar la función preprocess a cada oración en el corpus\n",
        "cleaned_corpus = [preprocess(sentence) for sentence in df_reviews['content']]\n"
      ]
    },
    {
      "cell_type": "code",
      "execution_count": 9,
      "metadata": {
        "colab": {
          "base_uri": "https://localhost:8080/"
        },
        "id": "Abm4NUJGiBkC",
        "outputId": "ccff41ec-8ca1-4f0b-c0cf-7d8f6d810bb8"
      },
      "outputs": [
        {
          "output_type": "stream",
          "name": "stderr",
          "text": [
            "[nltk_data] Downloading package cess_esp to /root/nltk_data...\n",
            "[nltk_data]   Unzipping corpora/cess_esp.zip.\n"
          ]
        },
        {
          "output_type": "stream",
          "name": "stdout",
          "text": [
            "Número de oraciones: 6030\n",
            "Número total de palabras: 192686\n",
            "Longitud promedio de oraciones: 31.954560530679935\n",
            "Desviación estándar de la longitud de las oraciones: 17.125957864220783\n",
            "Longitud máxima de las oraciones: 149\n",
            "Longitud mínima de las oraciones: 1\n",
            "Número de palabras únicas: 25464\n",
            "Longitud promedio de las palabras: 4.731075428417218\n",
            "Desviación estándar de la longitud de las palabras: 3.796360641855268\n",
            "Longitud máxima de las palabras: 78\n",
            "Longitud mínima de las palabras: 1\n",
            "Palabras más comunes: [(',', 11420), ('de', 10234), ('la', 6412), ('.', 5866), ('que', 5552), ('el', 5199), ('en', 4340), ('y', 4235), ('*0*', 3883), ('\"', 3038)]\n"
          ]
        }
      ],
      "source": [
        "import numpy as np\n",
        "nltk.download('cess_esp')\n",
        "corpus = nltk.corpus.cess_esp.sents()\n",
        "\n",
        "def describe_corpus(corpus):\n",
        "    # Número de oraciones\n",
        "    num_sentences = len(corpus)\n",
        "\n",
        "    # Número total de palabras\n",
        "    num_words = sum(len(sentence) for sentence in corpus)\n",
        "\n",
        "    # Longitud de las oraciones\n",
        "    sentence_lengths = [len(sentence) for sentence in corpus]\n",
        "    avg_sentence_length = np.mean(sentence_lengths)\n",
        "    std_sentence_length = np.std(sentence_lengths)\n",
        "    max_sentence_length = np.max(sentence_lengths)\n",
        "    min_sentence_length = np.min(sentence_lengths)\n",
        "\n",
        "    # Todas las palabras\n",
        "    all_words = [word for sentence in corpus for word in sentence]\n",
        "    unique_words = set(all_words)\n",
        "    num_unique_words = len(unique_words)\n",
        "\n",
        "    # Longitud de las palabras\n",
        "    word_lengths = [len(word) for word in all_words]\n",
        "    avg_word_length = np.mean(word_lengths)\n",
        "    std_word_length = np.std(word_lengths)\n",
        "    max_word_length = np.max(word_lengths)\n",
        "    min_word_length = np.min(word_lengths)\n",
        "\n",
        "    # Frecuencia de palabras\n",
        "    word_freq = Counter(all_words)\n",
        "    most_common_words = word_freq.most_common(10)\n",
        "\n",
        "    # Descripción\n",
        "    description = {\n",
        "        'Número de oraciones': num_sentences,\n",
        "        'Número total de palabras': num_words,\n",
        "        'Longitud promedio de oraciones': avg_sentence_length,\n",
        "        'Desviación estándar de la longitud de las oraciones': std_sentence_length,\n",
        "        'Longitud máxima de las oraciones': max_sentence_length,\n",
        "        'Longitud mínima de las oraciones': min_sentence_length,\n",
        "        'Número de palabras únicas': num_unique_words,\n",
        "        'Longitud promedio de las palabras': avg_word_length,\n",
        "        'Desviación estándar de la longitud de las palabras': std_word_length,\n",
        "        'Longitud máxima de las palabras': max_word_length,\n",
        "        'Longitud mínima de las palabras': min_word_length,\n",
        "        'Palabras más comunes': most_common_words\n",
        "    }\n",
        "\n",
        "    return description\n",
        "\n",
        "# Descripción del corpus\n",
        "corpus_description = describe_corpus(corpus)\n",
        "for key, value in corpus_description.items():\n",
        "    print(f\"{key}: {value}\")"
      ]
    },
    {
      "cell_type": "code",
      "execution_count": 10,
      "metadata": {
        "colab": {
          "base_uri": "https://localhost:8080/",
          "height": 565
        },
        "id": "DArHb7a8o7su",
        "outputId": "e17a005a-aaf4-48b5-a0e1-66a3565af8e6"
      },
      "outputs": [
        {
          "output_type": "display_data",
          "data": {
            "text/plain": [
              "<Figure size 1000x600 with 1 Axes>"
            ],
            "image/png": "[encoded data removed]"
          },
          "metadata": {}
        }
      ],
      "source": [
        "# Longitud de las oraciones\n",
        "sentence_lengths = [len(sentence) for sentence in cleaned_corpus]\n",
        "\n",
        "plt.figure(figsize=(10, 6))\n",
        "plt.hist(sentence_lengths, bins=60, edgecolor='black')\n",
        "plt.title('Distribución de la Longitud de las Oraciones')\n",
        "plt.xlabel('Número de palabras')\n",
        "plt.ylabel('Frecuencia')\n",
        "plt.show()"
      ]
    },
    {
      "cell_type": "code",
      "execution_count": 11,
      "metadata": {
        "colab": {
          "base_uri": "https://localhost:8080/",
          "height": 621
        },
        "id": "fGbZTv_Ht5oz",
        "outputId": "452d7734-cb17-40fc-a6c7-91b0c6534d72"
      },
      "outputs": [
        {
          "output_type": "stream",
          "name": "stdout",
          "text": [
            "Las 20 palabras más comunes: [('the', 13337), ('to', 11980), ('i', 11300), ('it', 8361), ('and', 7577), ('app', 7542), ('a', 7340), ('for', 5077), ('is', 5010), ('this', 4611), ('but', 3796), ('my', 3793), ('of', 3753), ('you', 3143), ('in', 2911), ('that', 2866), ('not', 2845), ('have', 2637), ('on', 2486), ('me', 2213)]\n"
          ]
        },
        {
          "output_type": "display_data",
          "data": {
            "text/plain": [
              "<Figure size 1000x600 with 1 Axes>"
            ],
            "image/png": "[encoded data removed]"
          },
          "metadata": {}
        }
      ],
      "source": [
        "# Contar la frecuencia de las palabras\n",
        "all_words = [word for sentence in cleaned_corpus for word in sentence]\n",
        "word_freq = Counter(all_words)\n",
        "\n",
        "# Mostrar las palabras más comunes\n",
        "most_common_words = word_freq.most_common(20)\n",
        "print(\"Las 20 palabras más comunes:\", most_common_words)\n",
        "\n",
        "# Gráfico de las palabras más comunes\n",
        "words, counts = zip(*most_common_words)\n",
        "plt.figure(figsize=(10, 6))\n",
        "plt.bar(words, counts)\n",
        "plt.title('Frecuencia de las 20 Palabras Más Comunes')\n",
        "plt.xlabel('Palabras')\n",
        "plt.ylabel('Frecuencia')\n",
        "plt.xticks(rotation=45)\n",
        "plt.show()"
      ]
    },
    {
      "cell_type": "code",
      "execution_count": 12,
      "metadata": {
        "colab": {
          "base_uri": "https://localhost:8080/"
        },
        "id": "D4ChY4W2t6L4",
        "outputId": "a8b89b77-d24d-445a-892a-0529dafb6b1a"
      },
      "outputs": [
        {
          "output_type": "stream",
          "name": "stderr",
          "text": [
            "[nltk_data] Downloading package stopwords to /root/nltk_data...\n",
            "[nltk_data]   Unzipping corpora/stopwords.zip.\n"
          ]
        }
      ],
      "source": [
        "from nltk.corpus import stopwords\n",
        "nltk.download('stopwords')\n",
        "\n",
        "def preprocess(sentence):\n",
        "    sentence = sentence.lower()\n",
        "\n",
        "    translator = str.maketrans('', '', string.punctuation)\n",
        "    sentence = sentence.translate(translator)\n",
        "    words = sentence.split()\n",
        "\n",
        "    # Eliminar stop words\n",
        "    sentence = [word for word in words if word not in stop_words]\n",
        "\n",
        "    return sentence\n",
        "\n",
        "# Descargar stop words\n",
        "stop_words = set(stopwords.words('english'))\n",
        "\n",
        "# Aplicar la función preprocess a cada oración en el corpus\n",
        "cleaned_corpus = [preprocess(sentence) for sentence in df_reviews['content']]\n"
      ]
    },
    {
      "cell_type": "code",
      "execution_count": 13,
      "metadata": {
        "colab": {
          "base_uri": "https://localhost:8080/",
          "height": 640
        },
        "id": "n_93rI5g-gPp",
        "outputId": "646ad6fa-0b14-453d-9adf-84550dfd3245"
      },
      "outputs": [
        {
          "output_type": "stream",
          "name": "stdout",
          "text": [
            "Las 20 palabras más comunes: [('app', 7542), ('like', 1721), ('good', 1719), ('use', 1604), ('time', 1525), ('tasks', 1487), ('great', 1483), ('would', 1328), ('really', 1208), ('calendar', 1187), ('task', 1128), ('love', 1120), ('one', 1099), ('dont', 1052), ('version', 996), ('day', 993), ('cant', 971), ('work', 954), ('get', 898), ('list', 885)]\n"
          ]
        },
        {
          "output_type": "display_data",
          "data": {
            "text/plain": [
              "<Figure size 1000x600 with 1 Axes>"
            ],
            "image/png": "[encoded data removed]"
          },
          "metadata": {}
        }
      ],
      "source": [
        "from collections import Counter\n",
        "import matplotlib.pyplot as plt\n",
        "\n",
        "# Aplanar la lista de listas\n",
        "all_words = [word for sentence in cleaned_corpus for word in sentence]\n",
        "\n",
        "# Contar la frecuencia de las palabras\n",
        "word_freq = Counter(all_words)\n",
        "\n",
        "# Mostrar las 20 palabras más comunes\n",
        "most_common_words = word_freq.most_common(20)\n",
        "print(\"Las 20 palabras más comunes:\", most_common_words)\n",
        "\n",
        "# Gráfico de las palabras más comunes\n",
        "words, counts = zip(*most_common_words)\n",
        "plt.figure(figsize=(10, 6))\n",
        "plt.bar(words, counts)\n",
        "plt.title('Frecuencia de las 20 Palabras Más Comunes sin Stop_Words')\n",
        "plt.xlabel('Palabras')\n",
        "plt.ylabel('Frecuencia')\n",
        "plt.xticks(rotation=45)\n",
        "plt.grid(axis='y', linestyle='--', alpha=0.7)\n",
        "plt.show()\n"
      ]
    },
    {
      "cell_type": "code",
      "execution_count": 14,
      "metadata": {
        "colab": {
          "base_uri": "https://localhost:8080/",
          "height": 565
        },
        "id": "WoOpNlcW8xY9",
        "outputId": "0f1b398f-7f06-458a-ae21-52755b44359f"
      },
      "outputs": [
        {
          "output_type": "display_data",
          "data": {
            "text/plain": [
              "<Figure size 1000x600 with 1 Axes>"
            ],
            "image/png": "[encoded data removed]"
          },
          "metadata": {}
        }
      ],
      "source": [
        "word_lengths = [len(word) for word in all_words]\n",
        "\n",
        "plt.figure(figsize=(10, 6))\n",
        "plt.hist(word_lengths, bins=20, edgecolor='black')\n",
        "plt.title('Distribución de la Longitud de las Palabras')\n",
        "plt.xlabel('Número de caracteres')\n",
        "plt.ylabel('Frecuencia')\n",
        "plt.show()"
      ]
    },
    {
      "cell_type": "markdown",
      "metadata": {
        "id": "IYAfNOEpz-a0"
      },
      "source": [
        "# Análisis Léxico y Morfológico"
      ]
    },
    {
      "cell_type": "markdown",
      "metadata": {
        "id": "97ai_cK3XSQS"
      },
      "source": [
        " Pos Taggins\n",
        "\n",
        "---\n",
        "\n"
      ]
    },
    {
      "cell_type": "code",
      "execution_count": 15,
      "metadata": {
        "colab": {
          "base_uri": "https://localhost:8080/"
        },
        "id": "vE9XDLRVYYeV",
        "outputId": "941b3a8b-dde9-4a13-efbf-5de0ac5bc34f"
      },
      "outputs": [
        {
          "output_type": "stream",
          "name": "stdout",
          "text": [
            "Collecting en-core-web-sm==3.7.1\n",
            "  Downloading https://github.com/explosion/spacy-models/releases/download/en_core_web_sm-3.7.1/en_core_web_sm-3.7.1-py3-none-any.whl (12.8 MB)\n",
            "\u001b[2K     \u001b[90m━━━━━━━━━━━━━━━━━━━━━━━━━━━━━━━━━━━━━━━━\u001b[0m \u001b[32m12.8/12.8 MB\u001b[0m \u001b[31m59.7 MB/s\u001b[0m eta \u001b[36m0:00:00\u001b[0m\n",
            "\u001b[?25hRequirement already satisfied: spacy<3.8.0,>=3.7.2 in /usr/local/lib/python3.10/dist-packages (from en-core-web-sm==3.7.1) (3.7.5)\n",
            "Requirement already satisfied: spacy-legacy<3.1.0,>=3.0.11 in /usr/local/lib/python3.10/dist-packages (from spacy<3.8.0,>=3.7.2->en-core-web-sm==3.7.1) (3.0.12)\n",
            "Requirement already satisfied: spacy-loggers<2.0.0,>=1.0.0 in /usr/local/lib/python3.10/dist-packages (from spacy<3.8.0,>=3.7.2->en-core-web-sm==3.7.1) (1.0.5)\n",
            "Requirement already satisfied: murmurhash<1.1.0,>=0.28.0 in /usr/local/lib/python3.10/dist-packages (from spacy<3.8.0,>=3.7.2->en-core-web-sm==3.7.1) (1.0.10)\n",
            "Requirement already satisfied: cymem<2.1.0,>=2.0.2 in /usr/local/lib/python3.10/dist-packages (from spacy<3.8.0,>=3.7.2->en-core-web-sm==3.7.1) (2.0.8)\n",
            "Requirement already satisfied: preshed<3.1.0,>=3.0.2 in /usr/local/lib/python3.10/dist-packages (from spacy<3.8.0,>=3.7.2->en-core-web-sm==3.7.1) (3.0.9)\n",
            "Requirement already satisfied: thinc<8.3.0,>=8.2.2 in /usr/local/lib/python3.10/dist-packages (from spacy<3.8.0,>=3.7.2->en-core-web-sm==3.7.1) (8.2.5)\n",
            "Requirement already satisfied: wasabi<1.2.0,>=0.9.1 in /usr/local/lib/python3.10/dist-packages (from spacy<3.8.0,>=3.7.2->en-core-web-sm==3.7.1) (1.1.3)\n",
            "Requirement already satisfied: srsly<3.0.0,>=2.4.3 in /usr/local/lib/python3.10/dist-packages (from spacy<3.8.0,>=3.7.2->en-core-web-sm==3.7.1) (2.4.8)\n",
            "Requirement already satisfied: catalogue<2.1.0,>=2.0.6 in /usr/local/lib/python3.10/dist-packages (from spacy<3.8.0,>=3.7.2->en-core-web-sm==3.7.1) (2.0.10)\n",
            "Requirement already satisfied: weasel<0.5.0,>=0.1.0 in /usr/local/lib/python3.10/dist-packages (from spacy<3.8.0,>=3.7.2->en-core-web-sm==3.7.1) (0.4.1)\n",
            "Requirement already satisfied: typer<1.0.0,>=0.3.0 in /usr/local/lib/python3.10/dist-packages (from spacy<3.8.0,>=3.7.2->en-core-web-sm==3.7.1) (0.13.0)\n",
            "Requirement already satisfied: tqdm<5.0.0,>=4.38.0 in /usr/local/lib/python3.10/dist-packages (from spacy<3.8.0,>=3.7.2->en-core-web-sm==3.7.1) (4.66.6)\n",
            "Requirement already satisfied: requests<3.0.0,>=2.13.0 in /usr/local/lib/python3.10/dist-packages (from spacy<3.8.0,>=3.7.2->en-core-web-sm==3.7.1) (2.32.3)\n",
            "Requirement already satisfied: pydantic!=1.8,!=1.8.1,<3.0.0,>=1.7.4 in /usr/local/lib/python3.10/dist-packages (from spacy<3.8.0,>=3.7.2->en-core-web-sm==3.7.1) (2.9.2)\n",
            "Requirement already satisfied: jinja2 in /usr/local/lib/python3.10/dist-packages (from spacy<3.8.0,>=3.7.2->en-core-web-sm==3.7.1) (3.1.4)\n",
            "Requirement already satisfied: setuptools in /usr/local/lib/python3.10/dist-packages (from spacy<3.8.0,>=3.7.2->en-core-web-sm==3.7.1) (75.1.0)\n",
            "Requirement already satisfied: packaging>=20.0 in /usr/local/lib/python3.10/dist-packages (from spacy<3.8.0,>=3.7.2->en-core-web-sm==3.7.1) (24.2)\n",
            "Requirement already satisfied: langcodes<4.0.0,>=3.2.0 in /usr/local/lib/python3.10/dist-packages (from spacy<3.8.0,>=3.7.2->en-core-web-sm==3.7.1) (3.4.1)\n",
            "Requirement already satisfied: numpy>=1.19.0 in /usr/local/lib/python3.10/dist-packages (from spacy<3.8.0,>=3.7.2->en-core-web-sm==3.7.1) (1.26.4)\n",
            "Requirement already satisfied: language-data>=1.2 in /usr/local/lib/python3.10/dist-packages (from langcodes<4.0.0,>=3.2.0->spacy<3.8.0,>=3.7.2->en-core-web-sm==3.7.1) (1.2.0)\n",
            "Requirement already satisfied: annotated-types>=0.6.0 in /usr/local/lib/python3.10/dist-packages (from pydantic!=1.8,!=1.8.1,<3.0.0,>=1.7.4->spacy<3.8.0,>=3.7.2->en-core-web-sm==3.7.1) (0.7.0)\n",
            "Requirement already satisfied: pydantic-core==2.23.4 in /usr/local/lib/python3.10/dist-packages (from pydantic!=1.8,!=1.8.1,<3.0.0,>=1.7.4->spacy<3.8.0,>=3.7.2->en-core-web-sm==3.7.1) (2.23.4)\n",
            "Requirement already satisfied: typing-extensions>=4.6.1 in /usr/local/lib/python3.10/dist-packages (from pydantic!=1.8,!=1.8.1,<3.0.0,>=1.7.4->spacy<3.8.0,>=3.7.2->en-core-web-sm==3.7.1) (4.12.2)\n",
            "Requirement already satisfied: charset-normalizer<4,>=2 in /usr/local/lib/python3.10/dist-packages (from requests<3.0.0,>=2.13.0->spacy<3.8.0,>=3.7.2->en-core-web-sm==3.7.1) (3.4.0)\n",
            "Requirement already satisfied: idna<4,>=2.5 in /usr/local/lib/python3.10/dist-packages (from requests<3.0.0,>=2.13.0->spacy<3.8.0,>=3.7.2->en-core-web-sm==3.7.1) (3.10)\n",
            "Requirement already satisfied: urllib3<3,>=1.21.1 in /usr/local/lib/python3.10/dist-packages (from requests<3.0.0,>=2.13.0->spacy<3.8.0,>=3.7.2->en-core-web-sm==3.7.1) (2.2.3)\n",
            "Requirement already satisfied: certifi>=2017.4.17 in /usr/local/lib/python3.10/dist-packages (from requests<3.0.0,>=2.13.0->spacy<3.8.0,>=3.7.2->en-core-web-sm==3.7.1) (2024.8.30)\n",
            "Requirement already satisfied: blis<0.8.0,>=0.7.8 in /usr/local/lib/python3.10/dist-packages (from thinc<8.3.0,>=8.2.2->spacy<3.8.0,>=3.7.2->en-core-web-sm==3.7.1) (0.7.11)\n",
            "Requirement already satisfied: confection<1.0.0,>=0.0.1 in /usr/local/lib/python3.10/dist-packages (from thinc<8.3.0,>=8.2.2->spacy<3.8.0,>=3.7.2->en-core-web-sm==3.7.1) (0.1.5)\n",
            "Requirement already satisfied: click>=8.0.0 in /usr/local/lib/python3.10/dist-packages (from typer<1.0.0,>=0.3.0->spacy<3.8.0,>=3.7.2->en-core-web-sm==3.7.1) (8.1.7)\n",
            "Requirement already satisfied: shellingham>=1.3.0 in /usr/local/lib/python3.10/dist-packages (from typer<1.0.0,>=0.3.0->spacy<3.8.0,>=3.7.2->en-core-web-sm==3.7.1) (1.5.4)\n",
            "Requirement already satisfied: rich>=10.11.0 in /usr/local/lib/python3.10/dist-packages (from typer<1.0.0,>=0.3.0->spacy<3.8.0,>=3.7.2->en-core-web-sm==3.7.1) (13.9.4)\n",
            "Requirement already satisfied: cloudpathlib<1.0.0,>=0.7.0 in /usr/local/lib/python3.10/dist-packages (from weasel<0.5.0,>=0.1.0->spacy<3.8.0,>=3.7.2->en-core-web-sm==3.7.1) (0.20.0)\n",
            "Requirement already satisfied: smart-open<8.0.0,>=5.2.1 in /usr/local/lib/python3.10/dist-packages (from weasel<0.5.0,>=0.1.0->spacy<3.8.0,>=3.7.2->en-core-web-sm==3.7.1) (7.0.5)\n",
            "Requirement already satisfied: MarkupSafe>=2.0 in /usr/local/lib/python3.10/dist-packages (from jinja2->spacy<3.8.0,>=3.7.2->en-core-web-sm==3.7.1) (3.0.2)\n",
            "Requirement already satisfied: marisa-trie>=0.7.7 in /usr/local/lib/python3.10/dist-packages (from language-data>=1.2->langcodes<4.0.0,>=3.2.0->spacy<3.8.0,>=3.7.2->en-core-web-sm==3.7.1) (1.2.1)\n",
            "Requirement already satisfied: markdown-it-py>=2.2.0 in /usr/local/lib/python3.10/dist-packages (from rich>=10.11.0->typer<1.0.0,>=0.3.0->spacy<3.8.0,>=3.7.2->en-core-web-sm==3.7.1) (3.0.0)\n",
            "Requirement already satisfied: pygments<3.0.0,>=2.13.0 in /usr/local/lib/python3.10/dist-packages (from rich>=10.11.0->typer<1.0.0,>=0.3.0->spacy<3.8.0,>=3.7.2->en-core-web-sm==3.7.1) (2.18.0)\n",
            "Requirement already satisfied: wrapt in /usr/local/lib/python3.10/dist-packages (from smart-open<8.0.0,>=5.2.1->weasel<0.5.0,>=0.1.0->spacy<3.8.0,>=3.7.2->en-core-web-sm==3.7.1) (1.16.0)\n",
            "Requirement already satisfied: mdurl~=0.1 in /usr/local/lib/python3.10/dist-packages (from markdown-it-py>=2.2.0->rich>=10.11.0->typer<1.0.0,>=0.3.0->spacy<3.8.0,>=3.7.2->en-core-web-sm==3.7.1) (0.1.2)\n",
            "\u001b[38;5;2m✔ Download and installation successful\u001b[0m\n",
            "You can now load the package via spacy.load('en_core_web_sm')\n",
            "\u001b[38;5;3m⚠ Restart to reload dependencies\u001b[0m\n",
            "If you are in a Jupyter or Colab notebook, you may need to restart Python in\n",
            "order to load all the package's dependencies. You can do this by selecting the\n",
            "'Restart kernel' or 'Restart runtime' option.\n"
          ]
        }
      ],
      "source": [
        "!python -m spacy download en_core_web_sm\n",
        "import spacy\n",
        "\n",
        "# Cargar el modelo de SpaCy\n",
        "nlp = spacy.load('en_core_web_sm')"
      ]
    },
    {
      "cell_type": "code",
      "execution_count": 16,
      "metadata": {
        "colab": {
          "base_uri": "https://localhost:8080/",
          "height": 601
        },
        "id": "zBfcPQWs_7rP",
        "outputId": "fbd269ac-e507-43cc-a15f-f796f0f07c2d"
      },
      "outputs": [
        {
          "output_type": "stream",
          "name": "stdout",
          "text": [
            "Las 10 partes del discurso más comunes: [('NOUN', 70187), ('VERB', 41985), ('ADJ', 27227), ('ADV', 13705), ('PROPN', 11424), ('AUX', 8509), ('PART', 4232), ('NUM', 4099), ('PRON', 3932), ('ADP', 2394)]\n"
          ]
        },
        {
          "output_type": "display_data",
          "data": {
            "text/plain": [
              "<Figure size 1000x600 with 1 Axes>"
            ],
            "image/png": "[encoded data removed]"
          },
          "metadata": {}
        }
      ],
      "source": [
        "\n",
        "def pos_tagging(sentence):\n",
        "    doc = nlp(\" \".join(sentence))\n",
        "    return [(token.text, token.pos_) for token in doc]\n",
        "\n",
        "# Aplicar POS tagging\n",
        "pos_tagged_corpus = [pos_tagging(sentence) for sentence in cleaned_corpus]\n",
        "\n",
        "# Contar la frecuencia de las partes del discurso\n",
        "pos_counts = Counter([pos for sentence in pos_tagged_corpus for _, pos in sentence])\n",
        "\n",
        "# Mostrar las partes del discurso más comunes\n",
        "most_common_pos = pos_counts.most_common(10)\n",
        "print(\"Las 10 partes del discurso más comunes:\", most_common_pos)\n",
        "\n",
        "# Gráfico\n",
        "pos, counts = zip(*most_common_pos)\n",
        "plt.figure(figsize=(10, 6))\n",
        "plt.bar(pos, counts)\n",
        "plt.title('Frecuencia de las 10 Partes del Discurso Más Comunes')\n",
        "plt.xlabel('Partes del Discurso')\n",
        "plt.ylabel('Frecuencia')\n",
        "plt.show()"
      ]
    },
    {
      "cell_type": "code",
      "execution_count": 17,
      "metadata": {
        "colab": {
          "base_uri": "https://localhost:8080/"
        },
        "id": "sPhC9cy70Icr",
        "outputId": "84dfda70-e3b2-47c0-dda2-f7c8ff9beb44"
      },
      "outputs": [
        {
          "output_type": "stream",
          "name": "stdout",
          "text": [
            "[[('can', 'AUX'), ('not', 'PART'), ('open', 'VERB'), ('app', 'NOUN'), ('anymore', 'ADV')], [('begging', 'VERB'), ('refund', 'PROPN'), ('app', 'NOUN'), ('month', 'NOUN'), ('nobody', 'PRON'), ('replying', 'VERB')], [('costly', 'ADJ'), ('premium', 'PROPN'), ('version', 'NOUN'), ('approx', 'PROPN'), ('indian', 'PROPN'), ('rupees', 'PROPN'), ('910', 'NUM'), ('per', 'ADP'), ('year', 'NOUN'), ('better', 'ADJ'), ('download', 'NOUN'), ('premium', 'PROPN'), ('version', 'PROPN'), ('app', 'PROPN'), ('apkmos', 'PROPN'), ('website', 'NOUN'), ('use', 'VERB'), ('microsoft', 'PROPN'), ('list', 'NOUN'), ('app', 'PROPN'), ('far', 'ADV'), ('better', 'ADV')], [('used', 'VERB'), ('keep', 'VERB'), ('organized', 'VERB'), ('2020', 'NUM'), ('updates', 'NOUN'), ('made', 'VERB'), ('mess', 'NOUN'), ('things', 'NOUN'), ('cudnt', 'VERB'), ('u', 'PRON'), ('leave', 'VERB'), ('well', 'INTJ'), ('enuf', 'PROPN'), ('alone', 'ADV'), ('guess', 'VERB'), ('ur', 'PRON'), ('techies', 'NOUN'), ('feel', 'VERB'), ('need', 'NOUN'), ('keep', 'VERB'), ('making', 'VERB'), ('changes', 'NOUN'), ('justify', 'VERB'), ('continuing', 'VERB'), ('collect', 'ADJ'), ('salary', 'NOUN'), ('🤤', 'ADJ'), ('🤤', 'NOUN'), ('🤤', 'NOUN')], [('dan', 'PROPN'), ('birthday', 'PROPN'), ('oct', 'PROPN'), ('28', 'NUM')]]\n",
            "[('NOUN', 70187), ('VERB', 41985), ('ADJ', 27227), ('ADV', 13705), ('PROPN', 11424), ('AUX', 8509), ('PART', 4232), ('NUM', 4099), ('PRON', 3932), ('ADP', 2394)]\n"
          ]
        }
      ],
      "source": [
        "# Mostrar las primeras 5 oraciones con su etiquetado POS\n",
        "print(pos_tagged_corpus[:5])\n",
        "\n",
        "# Frecuencia de etiquetas POS\n",
        "tags = [tag for sentence in pos_tagged_corpus for word, tag in sentence]\n",
        "tag_freq = Counter(tags)\n",
        "\n",
        "# Mostrar las etiquetas POS más comunes\n",
        "print(tag_freq.most_common(10))"
      ]
    },
    {
      "cell_type": "markdown",
      "metadata": {
        "id": "ky5XebkJW3dl"
      },
      "source": [
        "# Análisis de N-gramas y Diversidad Léxica"
      ]
    },
    {
      "cell_type": "code",
      "execution_count": 18,
      "metadata": {
        "colab": {
          "base_uri": "https://localhost:8080/"
        },
        "id": "SEcF8jFXW2jC",
        "outputId": "a8e1ce78-71ea-4d1c-de4b-530cf5ff8c0f"
      },
      "outputs": [
        {
          "output_type": "stream",
          "name": "stdout",
          "text": [
            "Los 10 bigramas más comunes: [(('great', 'app'), 502), (('good', 'app'), 371), (('love', 'app'), 348), (('easy', 'use'), 321), (('pro', 'version'), 257), (('google', 'calendar'), 251), (('free', 'version'), 243), (('like', 'app'), 187), (('doesnt', 'work'), 178), (('5', 'stars'), 178)]\n",
            "Los 10 trigramas más comunes: [(('really', 'like', 'app'), 50), (('give', '5', 'stars'), 44), (('app', 'easy', 'use'), 34), (('buy', 'pro', 'version'), 34), (('full', 'screen', 'ads'), 34), (('would', 'like', 'see'), 29), (('todo', 'list', 'app'), 28), (('sync', 'google', 'calendar'), 26), (('really', 'good', 'app'), 26), (('used', 'love', 'app'), 25)]\n"
          ]
        }
      ],
      "source": [
        "from nltk.util import ngrams\n",
        "\n",
        "# Función para generar n-gramas\n",
        "def generate_ngrams(corpus, n):\n",
        "    ngrams_list = []\n",
        "    for sentence in corpus:\n",
        "        ngrams_list.extend(list(ngrams(sentence, n)))\n",
        "    return ngrams_list\n",
        "\n",
        "# Generar bigramas y trigramas\n",
        "bigrams = generate_ngrams(cleaned_corpus, 2)\n",
        "trigrams = generate_ngrams(cleaned_corpus, 3)\n",
        "\n",
        "# Contar la frecuencia de los n-gramas\n",
        "bigram_freq = Counter(bigrams)\n",
        "trigram_freq = Counter(trigrams)\n",
        "\n",
        "# Mostrar los bigramas y trigramas más comunes\n",
        "most_common_bigrams = bigram_freq.most_common(10)\n",
        "most_common_trigrams = trigram_freq.most_common(10)\n",
        "\n",
        "print(\"Los 10 bigramas más comunes:\", most_common_bigrams)\n",
        "print(\"Los 10 trigramas más comunes:\", most_common_trigrams)"
      ]
    },
    {
      "cell_type": "code",
      "execution_count": 19,
      "metadata": {
        "colab": {
          "base_uri": "https://localhost:8080/"
        },
        "id": "GqstsdGuZgYC",
        "outputId": "f429ebcb-b0aa-4058-d53a-b421e0ff1edf"
      },
      "outputs": [
        {
          "output_type": "stream",
          "name": "stdout",
          "text": [
            "Diversidad léxica: 0.0757\n"
          ]
        }
      ],
      "source": [
        "# Diversidad léxica\n",
        "num_words = sum(len(sentence) for sentence in cleaned_corpus)\n",
        "num_unique_words = len(set(word for sentence in cleaned_corpus for word in sentence))\n",
        "lexical_diversity = num_unique_words / num_words\n",
        "print(f\"Diversidad léxica: {lexical_diversity:.4f}\")\n",
        "\n",
        "#Indica qué tan variado es el uso de palabras en un conjunto de texto, lo que puede proporcionar información sobre la riqueza lingüística y el estilo de escritura.\n",
        "#Un TTR (Tipo-Token Ratio) más cercano a 1 indica mayor diversidad léxica (más palabras únicas), mientras que un TTR más cercano a 0 indica menor diversidad.\n",
        "#Sensibilidad al Tamaño del Texto, un TTR puede ser problemático para textos muy cortos, ya que tenderá a ser más alto. Por otro lado, en textos largos, el TTR suele disminuir."
      ]
    },
    {
      "cell_type": "markdown",
      "metadata": {
        "id": "7Wf4QEjJ15jC"
      },
      "source": [
        "# Análisis Sintáctico"
      ]
    },
    {
      "cell_type": "code",
      "execution_count": 20,
      "metadata": {
        "colab": {
          "base_uri": "https://localhost:8080/"
        },
        "id": "UHvNZw-C1_sA",
        "outputId": "c137ea32-d484-4dca-f682-baea908201ef"
      },
      "outputs": [
        {
          "output_type": "stream",
          "name": "stdout",
          "text": [
            "[[('can', 'aux', 'open'), ('not', 'neg', 'open'), ('open', 'ROOT', 'open'), ('app', 'dobj', 'open'), ('anymore', 'advmod', 'open')], [('begging', 'advcl', 'replying'), ('refund', 'dobj', 'begging'), ('app', 'compound', 'month'), ('month', 'compound', 'nobody'), ('nobody', 'nsubj', 'replying'), ('replying', 'ROOT', 'replying')], [('costly', 'amod', 'version'), ('premium', 'compound', 'version'), ('version', 'compound', 'approx'), ('approx', 'nsubj', 'use'), ('indian', 'compound', 'rupees'), ('rupees', 'appos', 'approx'), ('910', 'appos', 'approx'), ('per', 'prep', '910'), ('year', 'pobj', 'per'), ('better', 'amod', 'download'), ('download', 'compound', 'website'), ('premium', 'compound', 'version'), ('version', 'compound', 'app'), ('app', 'compound', 'website'), ('apkmos', 'compound', 'website'), ('website', 'nsubj', 'use'), ('use', 'ROOT', 'use'), ('microsoft', 'compound', 'list'), ('list', 'dobj', 'use'), ('app', 'dobj', 'use'), ('far', 'advmod', 'better'), ('better', 'advmod', 'use')], [('used', 'amod', 'updates'), ('keep', 'xcomp', 'used'), ('organized', 'acomp', 'keep'), ('2020', 'nummod', 'updates'), ('updates', 'nsubj', 'made'), ('made', 'ROOT', 'made'), ('mess', 'compound', 'things'), ('things', 'nsubj', 'cudnt'), ('cudnt', 'ccomp', 'made'), ('u', 'nsubj', 'leave'), ('leave', 'advcl', 'cudnt'), ('well', 'advmod', 'made'), ('enuf', 'dobj', 'made'), ('alone', 'advmod', 'made'), ('guess', 'conj', 'made'), ('ur', 'compound', 'techies'), ('techies', 'nsubj', 'feel'), ('feel', 'ccomp', 'guess'), ('need', 'nsubj', 'keep'), ('keep', 'ccomp', 'feel'), ('making', 'xcomp', 'keep'), ('changes', 'nsubj', 'justify'), ('justify', 'ccomp', 'making'), ('continuing', 'amod', 'salary'), ('collect', 'amod', 'salary'), ('salary', 'dobj', 'justify'), ('🤤', 'amod', '🤤'), ('🤤', 'dep', 'made'), ('🤤', 'dobj', 'made')], [('dan', 'compound', 'birthday'), ('birthday', 'ROOT', 'birthday'), ('oct', 'npadvmod', 'birthday'), ('28', 'nummod', 'oct')]]\n"
          ]
        }
      ],
      "source": [
        "# Función para obtener el árbol de dependencias\n",
        "def dependency_parsing(sentence):\n",
        "    doc = nlp(\" \".join(sentence))\n",
        "    return [(token.text, token.dep_, token.head.text) for token in doc]\n",
        "\n",
        "# Aplicar dependency parsing\n",
        "dependencies_corpus = [dependency_parsing(sentence) for sentence in cleaned_corpus]\n",
        "print(dependencies_corpus[:5])"
      ]
    },
    {
      "cell_type": "markdown",
      "metadata": {
        "id": "JIAL850FZl1f"
      },
      "source": [
        "# Análisis Semántico"
      ]
    },
    {
      "cell_type": "markdown",
      "metadata": {
        "id": "8Afi_M-5aCoD"
      },
      "source": [
        "Desambiguación de Sentido de las Palabras y Reconocimiento de Entidades Nombradas (NER)"
      ]
    },
    {
      "cell_type": "code",
      "execution_count": 21,
      "metadata": {
        "colab": {
          "base_uri": "https://localhost:8080/"
        },
        "id": "ikRI3L5DZkkf",
        "outputId": "ea5998ee-9f9b-4f01-cc3f-7a4e8dacb9e9"
      },
      "outputs": [
        {
          "output_type": "stream",
          "name": "stdout",
          "text": [
            "[[], [('month', 'DATE')], [('indian', 'NORP'), ('910', 'CARDINAL'), ('microsoft', 'ORG')], [('2020', 'DATE')], [('dan birthday oct', 'PERSON')]]\n"
          ]
        }
      ],
      "source": [
        "# Función para reconocimiento de entidades nombradas\n",
        "def named_entity_recognition(sentence):\n",
        "    doc = nlp(\" \".join(sentence))\n",
        "    return [(ent.text, ent.label_) for ent in doc.ents]\n",
        "\n",
        "# Aplicar NER\n",
        "entities_corpus = [named_entity_recognition(sentence) for sentence in cleaned_corpus]\n",
        "print(entities_corpus[:5])"
      ]
    },
    {
      "cell_type": "markdown",
      "metadata": {
        "id": "6dNmk7cA06og"
      },
      "source": [
        "# Word Cloud"
      ]
    },
    {
      "cell_type": "code",
      "execution_count": 22,
      "metadata": {
        "colab": {
          "base_uri": "https://localhost:8080/",
          "height": 446
        },
        "id": "ApYWMka7aajm",
        "outputId": "5702aaba-8cb6-4ed6-8747-8b3ccd7f7106"
      },
      "outputs": [
        {
          "output_type": "display_data",
          "data": {
            "text/plain": [
              "<Figure size 1000x600 with 1 Axes>"
            ],
            "image/png": "[encoded data removed]"
          },
          "metadata": {}
        }
      ],
      "source": [
        "from wordcloud import WordCloud\n",
        "\n",
        "# Generar la nube de palabras\n",
        "wordcloud = WordCloud(width=800, height=400, background_color='white').generate(\" \".join(all_words))\n",
        "\n",
        "# Mostrar la nube de palabras\n",
        "plt.figure(figsize=(10, 6))\n",
        "plt.imshow(wordcloud, interpolation='bilinear')\n",
        "plt.axis('off')\n",
        "plt.title('Nube de Palabras del Corpus')\n",
        "plt.show()"
      ]
    },
    {
      "cell_type": "markdown",
      "metadata": {
        "id": "Kmym4YaSbXon"
      },
      "source": [
        "# Word Embeddings"
      ]
    },
    {
      "cell_type": "markdown",
      "metadata": {
        "id": "OQVj8reGkbL6"
      },
      "source": [
        "Procesamiento de texto y tokenización"
      ]
    },
    {
      "cell_type": "code",
      "execution_count": 23,
      "metadata": {
        "colab": {
          "base_uri": "https://localhost:8080/"
        },
        "id": "K1PNwuFPlN-l",
        "outputId": "f34aa98e-6a97-4942-deb8-6d5bcadba788"
      },
      "outputs": [
        {
          "output_type": "stream",
          "name": "stderr",
          "text": [
            "[nltk_data] Downloading package punkt to /root/nltk_data...\n",
            "[nltk_data]   Unzipping tokenizers/punkt.zip.\n",
            "[nltk_data] Downloading package punkt_tab to /root/nltk_data...\n",
            "[nltk_data]   Unzipping tokenizers/punkt_tab.zip.\n",
            "[nltk_data] Downloading package stopwords to /root/nltk_data...\n",
            "[nltk_data]   Package stopwords is already up-to-date!\n"
          ]
        },
        {
          "output_type": "execute_result",
          "data": {
            "text/plain": [
              "True"
            ]
          },
          "metadata": {},
          "execution_count": 23
        }
      ],
      "source": [
        "nltk.download('punkt')\n",
        "nltk.download('punkt_tab')\n",
        "nltk.download('stopwords')"
      ]
    },
    {
      "cell_type": "code",
      "execution_count": 24,
      "metadata": {
        "id": "48TbhOyAkak8"
      },
      "outputs": [],
      "source": [
        "from nltk.tokenize import word_tokenize\n",
        "from nltk.corpus import stopwords\n",
        "\n",
        "def preprocess_text(text):\n",
        "    # Tokenizar el texto\n",
        "    tokens = word_tokenize(text)\n",
        "    # Convertir a minúsculas\n",
        "    tokens = [word.lower() for word in tokens]\n",
        "    # Eliminar signos de puntuación y stopwords\n",
        "    tokens = [word for word in tokens if word.isalnum() and word not in stopwords.words('english')]\n",
        "    return tokens\n",
        "\n",
        "#Creación de columna auxiliar\n",
        "df['cleaned_content'] = df['content'].apply(preprocess_text)"
      ]
    },
    {
      "cell_type": "markdown",
      "metadata": {
        "id": "YQOrd3mnos9k"
      },
      "source": [
        "Modelo de Word2Vec"
      ]
    },
    {
      "cell_type": "code",
      "execution_count": 25,
      "metadata": {
        "id": "ce0dB4zcpBCI"
      },
      "outputs": [],
      "source": [
        "!pip install gensim -q\n"
      ]
    },
    {
      "cell_type": "code",
      "execution_count": 26,
      "metadata": {
        "id": "ZZoV_pVoobYp",
        "colab": {
          "base_uri": "https://localhost:8080/"
        },
        "outputId": "6ee0da6d-8a32-450e-cb53-4aef2d0cdbf8"
      },
      "outputs": [
        {
          "output_type": "stream",
          "name": "stdout",
          "text": [
            "                                             content  \\\n",
            "0                      I cannot open the app anymore   \n",
            "1  I have been begging for a refund from this app...   \n",
            "2  Very costly for the premium version (approx In...   \n",
            "3  Used to keep me organized, but all the 2020 UP...   \n",
            "4                                Dan Birthday Oct 28   \n",
            "\n",
            "                                           embedding  \n",
            "0  [-0.13289854, 0.5266602, 0.2835027, 0.1220833,...  \n",
            "1  [-0.04841584, 0.28611764, 0.121475846, 0.05443...  \n",
            "2  [-0.15276505, 0.43145218, 0.01919742, 0.194451...  \n",
            "3  [-0.04246322, 0.4151932, 0.19540234, 0.0471808...  \n",
            "4  [0.0004857328, 0.09570801, 0.046941206, 0.0019...  \n"
          ]
        }
      ],
      "source": [
        "from gensim.models import Word2Vec\n",
        "\n",
        "sentences = df['cleaned_content'].tolist()\n",
        "\n",
        "# Entrenar el modelo Word2Vec\n",
        "w2v_model = Word2Vec(sentences, vector_size=100, window=5, min_count=2, workers=4)\n",
        "\n",
        "#Convertir cada Reseña en un Vector\n",
        "def get_sentence_embedding(sentence, w2v_model):\n",
        "    # Filtrar palabras que estén en el vocabulario del modelo\n",
        "    valid_words = [word for word in sentence if word in w2v_model.wv]\n",
        "    if not valid_words:\n",
        "        return np.zeros(w2v_model.vector_size)\n",
        "    # Promediar los vectores de las palabras\n",
        "    return np.mean([w2v_model.wv[word] for word in valid_words], axis=0)\n",
        "\n",
        "# Aplicar la función para obtener embeddings para cada reseña\n",
        "df['embedding'] = df['cleaned_content'].apply(lambda x: get_sentence_embedding(x, w2v_model))\n",
        "\n",
        "\n",
        "print(df[['content', 'embedding']].head())"
      ]
    },
    {
      "cell_type": "markdown",
      "metadata": {
        "id": "AO7s5JLfqvSf"
      },
      "source": [
        "Similitud de coseno de una reseña"
      ]
    },
    {
      "cell_type": "code",
      "execution_count": 27,
      "metadata": {
        "id": "PbRuDShSqurz",
        "colab": {
          "base_uri": "https://localhost:8080/"
        },
        "outputId": "de5dc348-5ebf-4dad-a119-2b6ba8ae5b18"
      },
      "outputs": [
        {
          "output_type": "stream",
          "name": "stdout",
          "text": [
            "Matriz de Similitud de Coseno con Word Embeddings (primeras 5 filas y columnas):\n",
            "[[1.         0.9978261  0.94788317 0.98875966 0.98875863]\n",
            " [0.9978261  1.         0.95447997 0.98928782 0.98852127]\n",
            " [0.94788317 0.95447997 1.         0.92502076 0.9298414 ]\n",
            " [0.98875966 0.98928782 0.92502076 1.         0.98164307]\n",
            " [0.98875863 0.98852127 0.9298414  0.98164307 1.        ]]\n"
          ]
        }
      ],
      "source": [
        "from sklearn.metrics.pairwise import cosine_similarity\n",
        "\n",
        "#Vector promedio\n",
        "def get_sentence_vector(sentence, model):\n",
        "    words = [word for word in sentence if word in model.wv]\n",
        "    if not words:\n",
        "        return np.zeros(model.vector_size)\n",
        "    return np.mean([model.wv[word] for word in words], axis=0)\n",
        "\n",
        "# Aplicar la función a cada reseña\n",
        "df['embedding'] = df['cleaned_content'].apply(lambda x: get_sentence_vector(x, w2v_model))\n",
        "\n",
        "# Crear una matriz con todos los embeddings\n",
        "embedding_matrix = np.vstack(df['embedding'].values)\n",
        "\n",
        "# Similitud de Coseno entre todas las reseñas\n",
        "cosine_sim_embeddings = cosine_similarity(embedding_matrix)\n",
        "\n",
        "\n",
        "print(\"Matriz de Similitud de Coseno con Word Embeddings (primeras 5 filas y columnas):\")\n",
        "print(cosine_sim_embeddings[:5, :5])"
      ]
    },
    {
      "cell_type": "markdown",
      "metadata": {
        "id": "8-IHxLQppOw4"
      },
      "source": [
        "Embedding utilizando Spacy"
      ]
    },
    {
      "cell_type": "code",
      "execution_count": 28,
      "metadata": {
        "id": "jEcKik7XhWt3",
        "colab": {
          "base_uri": "https://localhost:8080/"
        },
        "outputId": "fc815b06-9229-45d0-cd15-9c3bc38f3a55"
      },
      "outputs": [
        {
          "output_type": "stream",
          "name": "stdout",
          "text": [
            "                                             content  \\\n",
            "0                      I cannot open the app anymore   \n",
            "1  I have been begging for a refund from this app...   \n",
            "2  Very costly for the premium version (approx In...   \n",
            "3  Used to keep me organized, but all the 2020 UP...   \n",
            "4                                Dan Birthday Oct 28   \n",
            "\n",
            "                                     embedding_spacy  \n",
            "0  [-0.028132098, -0.3769376, 0.09613245, 0.07385...  \n",
            "1  [0.16041978, -0.081106246, 0.15849051, 0.07518...  \n",
            "2  [-0.14099643, -0.5408081, 0.10204701, -0.18536...  \n",
            "3  [-0.27962536, -0.26972175, -0.047015198, -0.11...  \n",
            "4  [-0.5891939, -0.90918267, 0.079964936, 0.44911...  \n"
          ]
        }
      ],
      "source": [
        "df['embedding_spacy'] = df['content'].apply(lambda x: nlp(x).vector)\n",
        "\n",
        "print(df[['content', 'embedding_spacy']].head())"
      ]
    },
    {
      "cell_type": "markdown",
      "metadata": {
        "id": "51AoEdIullVr"
      },
      "source": [
        "Frecuencia de palabras Top 20"
      ]
    },
    {
      "cell_type": "code",
      "execution_count": 29,
      "metadata": {
        "colab": {
          "base_uri": "https://localhost:8080/"
        },
        "id": "KbbfGIARll2P",
        "outputId": "09eefc4b-81bf-4a09-b407-b1d62f2aee69"
      },
      "outputs": [
        {
          "output_type": "stream",
          "name": "stdout",
          "text": [
            "Top 20 palabras más comunes y su frecuencia:\n",
            "app: 7628\n",
            "good: 1734\n",
            "like: 1728\n",
            "use: 1606\n",
            "time: 1529\n",
            "tasks: 1491\n",
            "great: 1486\n",
            "would: 1403\n",
            "really: 1209\n",
            "calendar: 1194\n",
            "task: 1127\n",
            "love: 1123\n",
            "one: 1105\n",
            "version: 1004\n",
            "day: 1001\n",
            "work: 959\n",
            "get: 898\n",
            "list: 890\n",
            "ca: 849\n",
            "add: 775\n"
          ]
        }
      ],
      "source": [
        "all_words = [word for sentence in df['cleaned_content'] for word in sentence]\n",
        "word_freq = Counter(all_words)\n",
        "\n",
        "#Obtener el top 20 de palabras más comunes\n",
        "top_20_words = word_freq.most_common(20)\n",
        "\n",
        "# Mostrar los resultados\n",
        "print(\"Top 20 palabras más comunes y su frecuencia:\")\n",
        "for word, count in top_20_words:\n",
        "    print(f\"{word}: {count}\")"
      ]
    },
    {
      "cell_type": "markdown",
      "metadata": {
        "id": "KdTjIXX5xC16"
      },
      "source": [
        "# Lematizacion"
      ]
    },
    {
      "cell_type": "code",
      "execution_count": 30,
      "metadata": {
        "id": "yJ_qcBcjxAZI"
      },
      "outputs": [],
      "source": [
        "content_list = df['content'].tolist()\n",
        "\n",
        "lemmas = []\n",
        "for text in content_list:\n",
        "    doc = nlp(text)  # Procesar el texto con spaCy\n",
        "    lemmas.append([token.lemma_ for token in doc])\n",
        "\n",
        "df['lemmatized_content'] = lemmas"
      ]
    },
    {
      "cell_type": "markdown",
      "metadata": {
        "id": "qdWPzWbXshBZ"
      },
      "source": [
        "# Análisis de Sentimiento con Transformers (Hugging Face)"
      ]
    },
    {
      "cell_type": "code",
      "execution_count": 31,
      "metadata": {
        "colab": {
          "base_uri": "https://localhost:8080/"
        },
        "id": "BcXsm4lO9dbG",
        "outputId": "607f2586-c71c-4a9f-e5e2-202d298e81ca"
      },
      "outputs": [
        {
          "output_type": "stream",
          "name": "stdout",
          "text": [
            "Requirement already satisfied: transformers in /usr/local/lib/python3.10/dist-packages (4.46.2)\n",
            "Requirement already satisfied: torch in /usr/local/lib/python3.10/dist-packages (2.5.1+cu121)\n",
            "Requirement already satisfied: filelock in /usr/local/lib/python3.10/dist-packages (from transformers) (3.16.1)\n",
            "Requirement already satisfied: huggingface-hub<1.0,>=0.23.2 in /usr/local/lib/python3.10/dist-packages (from transformers) (0.26.2)\n",
            "Requirement already satisfied: numpy>=1.17 in /usr/local/lib/python3.10/dist-packages (from transformers) (1.26.4)\n",
            "Requirement already satisfied: packaging>=20.0 in /usr/local/lib/python3.10/dist-packages (from transformers) (24.2)\n",
            "Requirement already satisfied: pyyaml>=5.1 in /usr/local/lib/python3.10/dist-packages (from transformers) (6.0.2)\n",
            "Requirement already satisfied: regex!=2019.12.17 in /usr/local/lib/python3.10/dist-packages (from transformers) (2024.9.11)\n",
            "Requirement already satisfied: requests in /usr/local/lib/python3.10/dist-packages (from transformers) (2.32.3)\n",
            "Requirement already satisfied: safetensors>=0.4.1 in /usr/local/lib/python3.10/dist-packages (from transformers) (0.4.5)\n",
            "Requirement already satisfied: tokenizers<0.21,>=0.20 in /usr/local/lib/python3.10/dist-packages (from transformers) (0.20.3)\n",
            "Requirement already satisfied: tqdm>=4.27 in /usr/local/lib/python3.10/dist-packages (from transformers) (4.66.6)\n",
            "Requirement already satisfied: typing-extensions>=4.8.0 in /usr/local/lib/python3.10/dist-packages (from torch) (4.12.2)\n",
            "Requirement already satisfied: networkx in /usr/local/lib/python3.10/dist-packages (from torch) (3.4.2)\n",
            "Requirement already satisfied: jinja2 in /usr/local/lib/python3.10/dist-packages (from torch) (3.1.4)\n",
            "Requirement already satisfied: fsspec in /usr/local/lib/python3.10/dist-packages (from torch) (2024.10.0)\n",
            "Requirement already satisfied: sympy==1.13.1 in /usr/local/lib/python3.10/dist-packages (from torch) (1.13.1)\n",
            "Requirement already satisfied: mpmath<1.4,>=1.1.0 in /usr/local/lib/python3.10/dist-packages (from sympy==1.13.1->torch) (1.3.0)\n",
            "Requirement already satisfied: MarkupSafe>=2.0 in /usr/local/lib/python3.10/dist-packages (from jinja2->torch) (3.0.2)\n",
            "Requirement already satisfied: charset-normalizer<4,>=2 in /usr/local/lib/python3.10/dist-packages (from requests->transformers) (3.4.0)\n",
            "Requirement already satisfied: idna<4,>=2.5 in /usr/local/lib/python3.10/dist-packages (from requests->transformers) (3.10)\n",
            "Requirement already satisfied: urllib3<3,>=1.21.1 in /usr/local/lib/python3.10/dist-packages (from requests->transformers) (2.2.3)\n",
            "Requirement already satisfied: certifi>=2017.4.17 in /usr/local/lib/python3.10/dist-packages (from requests->transformers) (2024.8.30)\n"
          ]
        }
      ],
      "source": [
        "%pip install transformers torch\n"
      ]
    },
    {
      "cell_type": "code",
      "source": [
        "from nltk.tokenize import word_tokenize\n",
        "\n",
        "# Filtrar las reseñas que exceden 512 palabras\n",
        "reseñas_largas = df[df['content'].apply(lambda x: len(word_tokenize(x)) > 510)]\n",
        "\n",
        "# Mostrar las reseñas largas\n",
        "print(reseñas_largas)\n",
        "\n",
        "# Si quieres solo los índices de esas reseñas:\n",
        "print(f\"Índices de reseñas largas: {reseñas_largas.index.tolist()}\")\n",
        "\n",
        "# También puedes obtener la cantidad de reseñas largas\n",
        "print(f\"Cantidad de reseñas largas: {len(reseñas_largas)}\")\n"
      ],
      "metadata": {
        "colab": {
          "base_uri": "https://localhost:8080/"
        },
        "id": "BYbWr8Hse06_",
        "outputId": "31e37d99-77f7-4e72-fb1e-83c411c068ae"
      },
      "execution_count": 32,
      "outputs": [
        {
          "output_type": "stream",
          "name": "stdout",
          "text": [
            "                                               reviewId    userName  \\\n",
            "2777  gp:AOqpTOG-yLPXe4GxbSsDa2aUT2vBKCQYLGM-bSAfJDO...  Tom Oakley   \n",
            "\n",
            "                                              userImage  \\\n",
            "2777  https://play-lh.googleusercontent.com/a-/AOh14...   \n",
            "\n",
            "                                                content  score  thumbsUpCount  \\\n",
            "2777  Since joining their very affordable monthly su...      5             91   \n",
            "\n",
            "     reviewCreatedVersion                   at replyContent repliedAt  \\\n",
            "2777                5.8.3  2020-10-04 08:54:17          NaN       NaN   \n",
            "\n",
            "     sortOrder              appId  \\\n",
            "2777    newest  com.ticktick.task   \n",
            "\n",
            "                                        cleaned_content  \\\n",
            "2777  [since, joining, affordable, monthly, subscrip...   \n",
            "\n",
            "                                              embedding  \\\n",
            "2777  [0.035364676, 0.4195592, 0.20780931, -0.022428...   \n",
            "\n",
            "                                        embedding_spacy  \\\n",
            "2777  [0.12220176, -0.17873311, 0.0061270744, -0.030...   \n",
            "\n",
            "                                     lemmatized_content  \n",
            "2777  [since, join, their, very, affordable, monthly...  \n",
            "Índices de reseñas largas: [2777]\n",
            "Cantidad de reseñas largas: 1\n"
          ]
        }
      ]
    },
    {
      "cell_type": "code",
      "source": [
        "# Elimino la reseña que sepera el limite para poder utilizar mi modelo\n",
        "df = df.drop(index=2777)\n"
      ],
      "metadata": {
        "id": "9ffeO1FzH5Uf"
      },
      "execution_count": 33,
      "outputs": []
    },
    {
      "cell_type": "code",
      "source": [
        "from nltk.tokenize import word_tokenize\n",
        "\n",
        "# Verificar nuevamente las reseñas largas después de aplicar el filtro\n",
        "reseñas_largas = df[df['content'].apply(lambda x: len(word_tokenize(x)) > 512)]\n",
        "\n",
        "# Mostrar información\n",
        "print(f\"Índices de reseñas largas después del filtro: {reseñas_largas.index.tolist()}\")\n",
        "print(f\"Cantidad de reseñas largas restantes: {len(reseñas_largas)}\")\n"
      ],
      "metadata": {
        "colab": {
          "base_uri": "https://localhost:8080/"
        },
        "id": "tGFH74SpPTiL",
        "outputId": "3c17a470-1619-402f-fd37-8e1ce0057e7a"
      },
      "execution_count": 34,
      "outputs": [
        {
          "output_type": "stream",
          "name": "stdout",
          "text": [
            "Índices de reseñas largas después del filtro: []\n",
            "Cantidad de reseñas largas restantes: 0\n"
          ]
        }
      ]
    },
    {
      "cell_type": "code",
      "source": [
        "from transformers import pipeline\n",
        "\n",
        "# Cargar un pipeline de análisis de sentimiento con truncamiento\n",
        "sentiment_analyzer = pipeline('sentiment-analysis', truncation=True)\n",
        "\n",
        "# Función para obtener sentimiento con Transformers\n",
        "def get_sentiment_transformers(text):\n",
        "    result = sentiment_analyzer(text)[0]\n",
        "    return 'positivo' if result['label'] == 'POSITIVE' else 'negativo'\n",
        "\n",
        "# Aplicar análisis de sentimiento\n",
        "df['sentiment'] = df['content'].apply(get_sentiment_transformers)\n",
        "\n"
      ],
      "metadata": {
        "id": "Cbo0-MnUgZcI",
        "colab": {
          "base_uri": "https://localhost:8080/",
          "height": 304,
          "referenced_widgets": [
            "2771e9c4e2da49da9fdd29474ae06e57",
            "5dcbcd570e09474fb4c8495bc4b28304",
            "61cb3ddba9994bf1886e657a15eb9e36",
            "0bddb08a0ac24651be4405feb371dfb0",
            "46900d52dedb429785de44cc3d3c09aa",
            "3251469c7f1f4626b92fc3c8747e6ed5",
            "89e8c143b98649ad946289980dc58c72",
            "04ea1bf8b7fc40f3a144b930747ccd4d",
            "7d439719b0fa45c98e9dc35c3a0274c2",
            "e06401c20fbd42e5a822f723c96cb3b6",
            "03abb4213f75465eb5c203ab98ab93d5",
            "4608d91c02ec4f40a5169043a85dfefa",
            "9aa2af0aaad54146993db2045ecd75c2",
            "d103635589244ef284cd3ef4bfc0aa3e",
            "adb71569210346b886f3ce3036c3f83d",
            "aae9ce6dfd2246bc971db1344cefc701",
            "92c67ab2fc5045ba809074399e466abb",
            "39d11abf72ee4cf98367576f3f353559",
            "d2e0928ec6d34f5bbd47e7718e955857",
            "42549883ca9b4aafb5e7e35b26456d98",
            "0e82da7b9516434185b428d5f70efd62",
            "06568244800c4d65a3ef854207e9f44a",
            "528c401f12a0461e922610e9d9ec912b",
            "2710071876a44ca5abc62d6e62a6c840",
            "582724eacaeb4d81a45fe486fd46c2b9",
            "42a4938526c346d1a3b6aaaf7e055a83",
            "cf15e661ae5c4eed92a65f67e3d3de1a",
            "e20b5675d3784890a969a214e1de6d30",
            "8a9bb0ac3fc84ee5ae9d119474544cc3",
            "8396442f4c40435194f6d9510a82cf72",
            "2025265357cd4bd5b48e5f6559b39902",
            "723dd5858d594accbb4074a5af7a1b51",
            "1a5be5fd97ed443ca9555d5a98d48ee5",
            "04527d029eb94eed9ed90abe4093eab7",
            "705935608b9549a6a846d85c1108ffd8",
            "02e149ed75be4f9bbdee89a6ea909a79",
            "cc5eef14c2654ee6875cebdf37a168ad",
            "b15663509c39415082f9bf598a177763",
            "ab4ba6b72cd645bfbb1c0f55301a7bff",
            "1b859fa3243a480c89c3a85d87c43ad5",
            "88a5f23fff4d497a848f004a1911572b",
            "5de382d68b324bf6adf6de348c791feb",
            "d8a67d7fbc194cce83134bb087280665",
            "7a2b7f81c4c147db8ad421894429459e"
          ]
        },
        "outputId": "0e1e5caa-b5c1-4460-eec0-4c434b66ed5e"
      },
      "execution_count": 35,
      "outputs": [
        {
          "output_type": "stream",
          "name": "stderr",
          "text": [
            "No model was supplied, defaulted to distilbert/distilbert-base-uncased-finetuned-sst-2-english and revision 714eb0f (https://huggingface.co/distilbert/distilbert-base-uncased-finetuned-sst-2-english).\n",
            "Using a pipeline without specifying a model name and revision in production is not recommended.\n",
            "/usr/local/lib/python3.10/dist-packages/huggingface_hub/utils/_auth.py:94: UserWarning: \n",
            "The secret `HF_TOKEN` does not exist in your Colab secrets.\n",
            "To authenticate with the Hugging Face Hub, create a token in your settings tab (https://huggingface.co/settings/tokens), set it as secret in your Google Colab and restart your session.\n",
            "You will be able to reuse this secret in all of your notebooks.\n",
            "Please note that authentication is recommended but still optional to access public models or datasets.\n",
            "  warnings.warn(\n"
          ]
        },
        {
          "output_type": "display_data",
          "data": {
            "text/plain": [
              "config.json:   0%|          | 0.00/629 [00:00<?, ?B/s]"
            ],
            "application/vnd.jupyter.widget-view+json": {
              "version_major": 2,
              "version_minor": 0,
              "model_id": "2771e9c4e2da49da9fdd29474ae06e57"
            }
          },
          "metadata": {}
        },
        {
          "output_type": "display_data",
          "data": {
            "text/plain": [
              "model.safetensors:   0%|          | 0.00/268M [00:00<?, ?B/s]"
            ],
            "application/vnd.jupyter.widget-view+json": {
              "version_major": 2,
              "version_minor": 0,
              "model_id": "4608d91c02ec4f40a5169043a85dfefa"
            }
          },
          "metadata": {}
        },
        {
          "output_type": "display_data",
          "data": {
            "text/plain": [
              "tokenizer_config.json:   0%|          | 0.00/48.0 [00:00<?, ?B/s]"
            ],
            "application/vnd.jupyter.widget-view+json": {
              "version_major": 2,
              "version_minor": 0,
              "model_id": "528c401f12a0461e922610e9d9ec912b"
            }
          },
          "metadata": {}
        },
        {
          "output_type": "display_data",
          "data": {
            "text/plain": [
              "vocab.txt:   0%|          | 0.00/232k [00:00<?, ?B/s]"
            ],
            "application/vnd.jupyter.widget-view+json": {
              "version_major": 2,
              "version_minor": 0,
              "model_id": "04527d029eb94eed9ed90abe4093eab7"
            }
          },
          "metadata": {}
        }
      ]
    },
    {
      "cell_type": "code",
      "source": [],
      "metadata": {
        "id": "mF-OwTAWe1gR"
      },
      "execution_count": 35,
      "outputs": []
    }
  ],
  "metadata": {
    "colab": {
      "toc_visible": true,
      "provenance": [],
      "authorship_tag": "ABX9TyMNci0ERyWqkguJ2NFXsGGD",
      "include_colab_link": true
    },
    "kernelspec": {
      "display_name": "Python 3",
      "name": "python3"
    },
    "language_info": {
      "name": "python"
    },
    "widgets": {
      "application/vnd.jupyter.widget-state+json": {
        "2771e9c4e2da49da9fdd29474ae06e57": {
          "model_module": "@jupyter-widgets/controls",
          "model_name": "HBoxModel",
          "model_module_version": "1.5.0",
          "state": {
            "_dom_classes": [],
            "_model_module": "@jupyter-widgets/controls",
            "_model_module_version": "1.5.0",
            "_model_name": "HBoxModel",
            "_view_count": null,
            "_view_module": "@jupyter-widgets/controls",
            "_view_module_version": "1.5.0",
            "_view_name": "HBoxView",
            "box_style": "",
            "children": [
              "IPY_MODEL_5dcbcd570e09474fb4c8495bc4b28304",
              "IPY_MODEL_61cb3ddba9994bf1886e657a15eb9e36",
              "IPY_MODEL_0bddb08a0ac24651be4405feb371dfb0"
            ],
            "layout": "IPY_MODEL_46900d52dedb429785de44cc3d3c09aa"
          }
        },
        "5dcbcd570e09474fb4c8495bc4b28304": {
          "model_module": "@jupyter-widgets/controls",
          "model_name": "HTMLModel",
          "model_module_version": "1.5.0",
          "state": {
            "_dom_classes": [],
            "_model_module": "@jupyter-widgets/controls",
            "_model_module_version": "1.5.0",
            "_model_name": "HTMLModel",
            "_view_count": null,
            "_view_module": "@jupyter-widgets/controls",
            "_view_module_version": "1.5.0",
            "_view_name": "HTMLView",
            "description": "",
            "description_tooltip": null,
            "layout": "IPY_MODEL_3251469c7f1f4626b92fc3c8747e6ed5",
            "placeholder": "​",
            "style": "IPY_MODEL_89e8c143b98649ad946289980dc58c72",
            "value": "config.json: 100%"
          }
        },
        "61cb3ddba9994bf1886e657a15eb9e36": {
          "model_module": "@jupyter-widgets/controls",
          "model_name": "FloatProgressModel",
          "model_module_version": "1.5.0",
          "state": {
            "_dom_classes": [],
            "_model_module": "@jupyter-widgets/controls",
            "_model_module_version": "1.5.0",
            "_model_name": "FloatProgressModel",
            "_view_count": null,
            "_view_module": "@jupyter-widgets/controls",
            "_view_module_version": "1.5.0",
            "_view_name": "ProgressView",
            "bar_style": "success",
            "description": "",
            "description_tooltip": null,
            "layout": "IPY_MODEL_04ea1bf8b7fc40f3a144b930747ccd4d",
            "max": 629,
            "min": 0,
            "orientation": "horizontal",
            "style": "IPY_MODEL_7d439719b0fa45c98e9dc35c3a0274c2",
            "value": 629
          }
        },
        "0bddb08a0ac24651be4405feb371dfb0": {
          "model_module": "@jupyter-widgets/controls",
          "model_name": "HTMLModel",
          "model_module_version": "1.5.0",
          "state": {
            "_dom_classes": [],
            "_model_module": "@jupyter-widgets/controls",
            "_model_module_version": "1.5.0",
            "_model_name": "HTMLModel",
            "_view_count": null,
            "_view_module": "@jupyter-widgets/controls",
            "_view_module_version": "1.5.0",
            "_view_name": "HTMLView",
            "description": "",
            "description_tooltip": null,
            "layout": "IPY_MODEL_e06401c20fbd42e5a822f723c96cb3b6",
            "placeholder": "​",
            "style": "IPY_MODEL_03abb4213f75465eb5c203ab98ab93d5",
            "value": " 629/629 [00:00&lt;00:00, 8.02kB/s]"
          }
        },
        "46900d52dedb429785de44cc3d3c09aa": {
          "model_module": "@jupyter-widgets/base",
          "model_name": "LayoutModel",
          "model_module_version": "1.2.0",
          "state": {
            "_model_module": "@jupyter-widgets/base",
            "_model_module_version": "1.2.0",
            "_model_name": "LayoutModel",
            "_view_count": null,
            "_view_module": "@jupyter-widgets/base",
            "_view_module_version": "1.2.0",
            "_view_name": "LayoutView",
            "align_content": null,
            "align_items": null,
            "align_self": null,
            "border": null,
            "bottom": null,
            "display": null,
            "flex": null,
            "flex_flow": null,
            "grid_area": null,
            "grid_auto_columns": null,
            "grid_auto_flow": null,
            "grid_auto_rows": null,
            "grid_column": null,
            "grid_gap": null,
            "grid_row": null,
            "grid_template_areas": null,
            "grid_template_columns": null,
            "grid_template_rows": null,
            "height": null,
            "justify_content": null,
            "justify_items": null,
            "left": null,
            "margin": null,
            "max_height": null,
            "max_width": null,
            "min_height": null,
            "min_width": null,
            "object_fit": null,
            "object_position": null,
            "order": null,
            "overflow": null,
            "overflow_x": null,
            "overflow_y": null,
            "padding": null,
            "right": null,
            "top": null,
            "visibility": null,
            "width": null
          }
        },
        "3251469c7f1f4626b92fc3c8747e6ed5": {
          "model_module": "@jupyter-widgets/base",
          "model_name": "LayoutModel",
          "model_module_version": "1.2.0",
          "state": {
            "_model_module": "@jupyter-widgets/base",
            "_model_module_version": "1.2.0",
            "_model_name": "LayoutModel",
            "_view_count": null,
            "_view_module": "@jupyter-widgets/base",
            "_view_module_version": "1.2.0",
            "_view_name": "LayoutView",
            "align_content": null,
            "align_items": null,
            "align_self": null,
            "border": null,
            "bottom": null,
            "display": null,
            "flex": null,
            "flex_flow": null,
            "grid_area": null,
            "grid_auto_columns": null,
            "grid_auto_flow": null,
            "grid_auto_rows": null,
            "grid_column": null,
            "grid_gap": null,
            "grid_row": null,
            "grid_template_areas": null,
            "grid_template_columns": null,
            "grid_template_rows": null,
            "height": null,
            "justify_content": null,
            "justify_items": null,
            "left": null,
            "margin": null,
            "max_height": null,
            "max_width": null,
            "min_height": null,
            "min_width": null,
            "object_fit": null,
            "object_position": null,
            "order": null,
            "overflow": null,
            "overflow_x": null,
            "overflow_y": null,
            "padding": null,
            "right": null,
            "top": null,
            "visibility": null,
            "width": null
          }
        },
        "89e8c143b98649ad946289980dc58c72": {
          "model_module": "@jupyter-widgets/controls",
          "model_name": "DescriptionStyleModel",
          "model_module_version": "1.5.0",
          "state": {
            "_model_module": "@jupyter-widgets/controls",
            "_model_module_version": "1.5.0",
            "_model_name": "DescriptionStyleModel",
            "_view_count": null,
            "_view_module": "@jupyter-widgets/base",
            "_view_module_version": "1.2.0",
            "_view_name": "StyleView",
            "description_width": ""
          }
        },
        "04ea1bf8b7fc40f3a144b930747ccd4d": {
          "model_module": "@jupyter-widgets/base",
          "model_name": "LayoutModel",
          "model_module_version": "1.2.0",
          "state": {
            "_model_module": "@jupyter-widgets/base",
            "_model_module_version": "1.2.0",
            "_model_name": "LayoutModel",
            "_view_count": null,
            "_view_module": "@jupyter-widgets/base",
            "_view_module_version": "1.2.0",
            "_view_name": "LayoutView",
            "align_content": null,
            "align_items": null,
            "align_self": null,
            "border": null,
            "bottom": null,
            "display": null,
            "flex": null,
            "flex_flow": null,
            "grid_area": null,
            "grid_auto_columns": null,
            "grid_auto_flow": null,
            "grid_auto_rows": null,
            "grid_column": null,
            "grid_gap": null,
            "grid_row": null,
            "grid_template_areas": null,
            "grid_template_columns": null,
            "grid_template_rows": null,
            "height": null,
            "justify_content": null,
            "justify_items": null,
            "left": null,
            "margin": null,
            "max_height": null,
            "max_width": null,
            "min_height": null,
            "min_width": null,
            "object_fit": null,
            "object_position": null,
            "order": null,
            "overflow": null,
            "overflow_x": null,
            "overflow_y": null,
            "padding": null,
            "right": null,
            "top": null,
            "visibility": null,
            "width": null
          }
        },
        "7d439719b0fa45c98e9dc35c3a0274c2": {
          "model_module": "@jupyter-widgets/controls",
          "model_name": "ProgressStyleModel",
          "model_module_version": "1.5.0",
          "state": {
            "_model_module": "@jupyter-widgets/controls",
            "_model_module_version": "1.5.0",
            "_model_name": "ProgressStyleModel",
            "_view_count": null,
            "_view_module": "@jupyter-widgets/base",
            "_view_module_version": "1.2.0",
            "_view_name": "StyleView",
            "bar_color": null,
            "description_width": ""
          }
        },
        "e06401c20fbd42e5a822f723c96cb3b6": {
          "model_module": "@jupyter-widgets/base",
          "model_name": "LayoutModel",
          "model_module_version": "1.2.0",
          "state": {
            "_model_module": "@jupyter-widgets/base",
            "_model_module_version": "1.2.0",
            "_model_name": "LayoutModel",
            "_view_count": null,
            "_view_module": "@jupyter-widgets/base",
            "_view_module_version": "1.2.0",
            "_view_name": "LayoutView",
            "align_content": null,
            "align_items": null,
            "align_self": null,
            "border": null,
            "bottom": null,
            "display": null,
            "flex": null,
            "flex_flow": null,
            "grid_area": null,
            "grid_auto_columns": null,
            "grid_auto_flow": null,
            "grid_auto_rows": null,
            "grid_column": null,
            "grid_gap": null,
            "grid_row": null,
            "grid_template_areas": null,
            "grid_template_columns": null,
            "grid_template_rows": null,
            "height": null,
            "justify_content": null,
            "justify_items": null,
            "left": null,
            "margin": null,
            "max_height": null,
            "max_width": null,
            "min_height": null,
            "min_width": null,
            "object_fit": null,
            "object_position": null,
            "order": null,
            "overflow": null,
            "overflow_x": null,
            "overflow_y": null,
            "padding": null,
            "right": null,
            "top": null,
            "visibility": null,
            "width": null
          }
        },
        "03abb4213f75465eb5c203ab98ab93d5": {
          "model_module": "@jupyter-widgets/controls",
          "model_name": "DescriptionStyleModel",
          "model_module_version": "1.5.0",
          "state": {
            "_model_module": "@jupyter-widgets/controls",
            "_model_module_version": "1.5.0",
            "_model_name": "DescriptionStyleModel",
            "_view_count": null,
            "_view_module": "@jupyter-widgets/base",
            "_view_module_version": "1.2.0",
            "_view_name": "StyleView",
            "description_width": ""
          }
        },
        "4608d91c02ec4f40a5169043a85dfefa": {
          "model_module": "@jupyter-widgets/controls",
          "model_name": "HBoxModel",
          "model_module_version": "1.5.0",
          "state": {
            "_dom_classes": [],
            "_model_module": "@jupyter-widgets/controls",
            "_model_module_version": "1.5.0",
            "_model_name": "HBoxModel",
            "_view_count": null,
            "_view_module": "@jupyter-widgets/controls",
            "_view_module_version": "1.5.0",
            "_view_name": "HBoxView",
            "box_style": "",
            "children": [
              "IPY_MODEL_9aa2af0aaad54146993db2045ecd75c2",
              "IPY_MODEL_d103635589244ef284cd3ef4bfc0aa3e",
              "IPY_MODEL_adb71569210346b886f3ce3036c3f83d"
            ],
            "layout": "IPY_MODEL_aae9ce6dfd2246bc971db1344cefc701"
          }
        },
        "9aa2af0aaad54146993db2045ecd75c2": {
          "model_module": "@jupyter-widgets/controls",
          "model_name": "HTMLModel",
          "model_module_version": "1.5.0",
          "state": {
            "_dom_classes": [],
            "_model_module": "@jupyter-widgets/controls",
            "_model_module_version": "1.5.0",
            "_model_name": "HTMLModel",
            "_view_count": null,
            "_view_module": "@jupyter-widgets/controls",
            "_view_module_version": "1.5.0",
            "_view_name": "HTMLView",
            "description": "",
            "description_tooltip": null,
            "layout": "IPY_MODEL_92c67ab2fc5045ba809074399e466abb",
            "placeholder": "​",
            "style": "IPY_MODEL_39d11abf72ee4cf98367576f3f353559",
            "value": "model.safetensors: 100%"
          }
        },
        "d103635589244ef284cd3ef4bfc0aa3e": {
          "model_module": "@jupyter-widgets/controls",
          "model_name": "FloatProgressModel",
          "model_module_version": "1.5.0",
          "state": {
            "_dom_classes": [],
            "_model_module": "@jupyter-widgets/controls",
            "_model_module_version": "1.5.0",
            "_model_name": "FloatProgressModel",
            "_view_count": null,
            "_view_module": "@jupyter-widgets/controls",
            "_view_module_version": "1.5.0",
            "_view_name": "ProgressView",
            "bar_style": "success",
            "description": "",
            "description_tooltip": null,
            "layout": "IPY_MODEL_d2e0928ec6d34f5bbd47e7718e955857",
            "max": 267832558,
            "min": 0,
            "orientation": "horizontal",
            "style": "IPY_MODEL_42549883ca9b4aafb5e7e35b26456d98",
            "value": 267832558
          }
        },
        "adb71569210346b886f3ce3036c3f83d": {
          "model_module": "@jupyter-widgets/controls",
          "model_name": "HTMLModel",
          "model_module_version": "1.5.0",
          "state": {
            "_dom_classes": [],
            "_model_module": "@jupyter-widgets/controls",
            "_model_module_version": "1.5.0",
            "_model_name": "HTMLModel",
            "_view_count": null,
            "_view_module": "@jupyter-widgets/controls",
            "_view_module_version": "1.5.0",
            "_view_name": "HTMLView",
            "description": "",
            "description_tooltip": null,
            "layout": "IPY_MODEL_0e82da7b9516434185b428d5f70efd62",
            "placeholder": "​",
            "style": "IPY_MODEL_06568244800c4d65a3ef854207e9f44a",
            "value": " 268M/268M [00:02&lt;00:00, 132MB/s]"
          }
        },
        "aae9ce6dfd2246bc971db1344cefc701": {
          "model_module": "@jupyter-widgets/base",
          "model_name": "LayoutModel",
          "model_module_version": "1.2.0",
          "state": {
            "_model_module": "@jupyter-widgets/base",
            "_model_module_version": "1.2.0",
            "_model_name": "LayoutModel",
            "_view_count": null,
            "_view_module": "@jupyter-widgets/base",
            "_view_module_version": "1.2.0",
            "_view_name": "LayoutView",
            "align_content": null,
            "align_items": null,
            "align_self": null,
            "border": null,
            "bottom": null,
            "display": null,
            "flex": null,
            "flex_flow": null,
            "grid_area": null,
            "grid_auto_columns": null,
            "grid_auto_flow": null,
            "grid_auto_rows": null,
            "grid_column": null,
            "grid_gap": null,
            "grid_row": null,
            "grid_template_areas": null,
            "grid_template_columns": null,
            "grid_template_rows": null,
            "height": null,
            "justify_content": null,
            "justify_items": null,
            "left": null,
            "margin": null,
            "max_height": null,
            "max_width": null,
            "min_height": null,
            "min_width": null,
            "object_fit": null,
            "object_position": null,
            "order": null,
            "overflow": null,
            "overflow_x": null,
            "overflow_y": null,
            "padding": null,
            "right": null,
            "top": null,
            "visibility": null,
            "width": null
          }
        },
        "92c67ab2fc5045ba809074399e466abb": {
          "model_module": "@jupyter-widgets/base",
          "model_name": "LayoutModel",
          "model_module_version": "1.2.0",
          "state": {
            "_model_module": "@jupyter-widgets/base",
            "_model_module_version": "1.2.0",
            "_model_name": "LayoutModel",
            "_view_count": null,
            "_view_module": "@jupyter-widgets/base",
            "_view_module_version": "1.2.0",
            "_view_name": "LayoutView",
            "align_content": null,
            "align_items": null,
            "align_self": null,
            "border": null,
            "bottom": null,
            "display": null,
            "flex": null,
            "flex_flow": null,
            "grid_area": null,
            "grid_auto_columns": null,
            "grid_auto_flow": null,
            "grid_auto_rows": null,
            "grid_column": null,
            "grid_gap": null,
            "grid_row": null,
            "grid_template_areas": null,
            "grid_template_columns": null,
            "grid_template_rows": null,
            "height": null,
            "justify_content": null,
            "justify_items": null,
            "left": null,
            "margin": null,
            "max_height": null,
            "max_width": null,
            "min_height": null,
            "min_width": null,
            "object_fit": null,
            "object_position": null,
            "order": null,
            "overflow": null,
            "overflow_x": null,
            "overflow_y": null,
            "padding": null,
            "right": null,
            "top": null,
            "visibility": null,
            "width": null
          }
        },
        "39d11abf72ee4cf98367576f3f353559": {
          "model_module": "@jupyter-widgets/controls",
          "model_name": "DescriptionStyleModel",
          "model_module_version": "1.5.0",
          "state": {
            "_model_module": "@jupyter-widgets/controls",
            "_model_module_version": "1.5.0",
            "_model_name": "DescriptionStyleModel",
            "_view_count": null,
            "_view_module": "@jupyter-widgets/base",
            "_view_module_version": "1.2.0",
            "_view_name": "StyleView",
            "description_width": ""
          }
        },
        "d2e0928ec6d34f5bbd47e7718e955857": {
          "model_module": "@jupyter-widgets/base",
          "model_name": "LayoutModel",
          "model_module_version": "1.2.0",
          "state": {
            "_model_module": "@jupyter-widgets/base",
            "_model_module_version": "1.2.0",
            "_model_name": "LayoutModel",
            "_view_count": null,
            "_view_module": "@jupyter-widgets/base",
            "_view_module_version": "1.2.0",
            "_view_name": "LayoutView",
            "align_content": null,
            "align_items": null,
            "align_self": null,
            "border": null,
            "bottom": null,
            "display": null,
            "flex": null,
            "flex_flow": null,
            "grid_area": null,
            "grid_auto_columns": null,
            "grid_auto_flow": null,
            "grid_auto_rows": null,
            "grid_column": null,
            "grid_gap": null,
            "grid_row": null,
            "grid_template_areas": null,
            "grid_template_columns": null,
            "grid_template_rows": null,
            "height": null,
            "justify_content": null,
            "justify_items": null,
            "left": null,
            "margin": null,
            "max_height": null,
            "max_width": null,
            "min_height": null,
            "min_width": null,
            "object_fit": null,
            "object_position": null,
            "order": null,
            "overflow": null,
            "overflow_x": null,
            "overflow_y": null,
            "padding": null,
            "right": null,
            "top": null,
            "visibility": null,
            "width": null
          }
        },
        "42549883ca9b4aafb5e7e35b26456d98": {
          "model_module": "@jupyter-widgets/controls",
          "model_name": "ProgressStyleModel",
          "model_module_version": "1.5.0",
          "state": {
            "_model_module": "@jupyter-widgets/controls",
            "_model_module_version": "1.5.0",
            "_model_name": "ProgressStyleModel",
            "_view_count": null,
            "_view_module": "@jupyter-widgets/base",
            "_view_module_version": "1.2.0",
            "_view_name": "StyleView",
            "bar_color": null,
            "description_width": ""
          }
        },
        "0e82da7b9516434185b428d5f70efd62": {
          "model_module": "@jupyter-widgets/base",
          "model_name": "LayoutModel",
          "model_module_version": "1.2.0",
          "state": {
            "_model_module": "@jupyter-widgets/base",
            "_model_module_version": "1.2.0",
            "_model_name": "LayoutModel",
            "_view_count": null,
            "_view_module": "@jupyter-widgets/base",
            "_view_module_version": "1.2.0",
            "_view_name": "LayoutView",
            "align_content": null,
            "align_items": null,
            "align_self": null,
            "border": null,
            "bottom": null,
            "display": null,
            "flex": null,
            "flex_flow": null,
            "grid_area": null,
            "grid_auto_columns": null,
            "grid_auto_flow": null,
            "grid_auto_rows": null,
            "grid_column": null,
            "grid_gap": null,
            "grid_row": null,
            "grid_template_areas": null,
            "grid_template_columns": null,
            "grid_template_rows": null,
            "height": null,
            "justify_content": null,
            "justify_items": null,
            "left": null,
            "margin": null,
            "max_height": null,
            "max_width": null,
            "min_height": null,
            "min_width": null,
            "object_fit": null,
            "object_position": null,
            "order": null,
            "overflow": null,
            "overflow_x": null,
            "overflow_y": null,
            "padding": null,
            "right": null,
            "top": null,
            "visibility": null,
            "width": null
          }
        },
        "06568244800c4d65a3ef854207e9f44a": {
          "model_module": "@jupyter-widgets/controls",
          "model_name": "DescriptionStyleModel",
          "model_module_version": "1.5.0",
          "state": {
            "_model_module": "@jupyter-widgets/controls",
            "_model_module_version": "1.5.0",
            "_model_name": "DescriptionStyleModel",
            "_view_count": null,
            "_view_module": "@jupyter-widgets/base",
            "_view_module_version": "1.2.0",
            "_view_name": "StyleView",
            "description_width": ""
          }
        },
        "528c401f12a0461e922610e9d9ec912b": {
          "model_module": "@jupyter-widgets/controls",
          "model_name": "HBoxModel",
          "model_module_version": "1.5.0",
          "state": {
            "_dom_classes": [],
            "_model_module": "@jupyter-widgets/controls",
            "_model_module_version": "1.5.0",
            "_model_name": "HBoxModel",
            "_view_count": null,
            "_view_module": "@jupyter-widgets/controls",
            "_view_module_version": "1.5.0",
            "_view_name": "HBoxView",
            "box_style": "",
            "children": [
              "IPY_MODEL_2710071876a44ca5abc62d6e62a6c840",
              "IPY_MODEL_582724eacaeb4d81a45fe486fd46c2b9",
              "IPY_MODEL_42a4938526c346d1a3b6aaaf7e055a83"
            ],
            "layout": "IPY_MODEL_cf15e661ae5c4eed92a65f67e3d3de1a"
          }
        },
        "2710071876a44ca5abc62d6e62a6c840": {
          "model_module": "@jupyter-widgets/controls",
          "model_name": "HTMLModel",
          "model_module_version": "1.5.0",
          "state": {
            "_dom_classes": [],
            "_model_module": "@jupyter-widgets/controls",
            "_model_module_version": "1.5.0",
            "_model_name": "HTMLModel",
            "_view_count": null,
            "_view_module": "@jupyter-widgets/controls",
            "_view_module_version": "1.5.0",
            "_view_name": "HTMLView",
            "description": "",
            "description_tooltip": null,
            "layout": "IPY_MODEL_e20b5675d3784890a969a214e1de6d30",
            "placeholder": "​",
            "style": "IPY_MODEL_8a9bb0ac3fc84ee5ae9d119474544cc3",
            "value": "tokenizer_config.json: 100%"
          }
        },
        "582724eacaeb4d81a45fe486fd46c2b9": {
          "model_module": "@jupyter-widgets/controls",
          "model_name": "FloatProgressModel",
          "model_module_version": "1.5.0",
          "state": {
            "_dom_classes": [],
            "_model_module": "@jupyter-widgets/controls",
            "_model_module_version": "1.5.0",
            "_model_name": "FloatProgressModel",
            "_view_count": null,
            "_view_module": "@jupyter-widgets/controls",
            "_view_module_version": "1.5.0",
            "_view_name": "ProgressView",
            "bar_style": "success",
            "description": "",
            "description_tooltip": null,
            "layout": "IPY_MODEL_8396442f4c40435194f6d9510a82cf72",
            "max": 48,
            "min": 0,
            "orientation": "horizontal",
            "style": "IPY_MODEL_2025265357cd4bd5b48e5f6559b39902",
            "value": 48
          }
        },
        "42a4938526c346d1a3b6aaaf7e055a83": {
          "model_module": "@jupyter-widgets/controls",
          "model_name": "HTMLModel",
          "model_module_version": "1.5.0",
          "state": {
            "_dom_classes": [],
            "_model_module": "@jupyter-widgets/controls",
            "_model_module_version": "1.5.0",
            "_model_name": "HTMLModel",
            "_view_count": null,
            "_view_module": "@jupyter-widgets/controls",
            "_view_module_version": "1.5.0",
            "_view_name": "HTMLView",
            "description": "",
            "description_tooltip": null,
            "layout": "IPY_MODEL_723dd5858d594accbb4074a5af7a1b51",
            "placeholder": "​",
            "style": "IPY_MODEL_1a5be5fd97ed443ca9555d5a98d48ee5",
            "value": " 48.0/48.0 [00:00&lt;00:00, 1.25kB/s]"
          }
        },
        "cf15e661ae5c4eed92a65f67e3d3de1a": {
          "model_module": "@jupyter-widgets/base",
          "model_name": "LayoutModel",
          "model_module_version": "1.2.0",
          "state": {
            "_model_module": "@jupyter-widgets/base",
            "_model_module_version": "1.2.0",
            "_model_name": "LayoutModel",
            "_view_count": null,
            "_view_module": "@jupyter-widgets/base",
            "_view_module_version": "1.2.0",
            "_view_name": "LayoutView",
            "align_content": null,
            "align_items": null,
            "align_self": null,
            "border": null,
            "bottom": null,
            "display": null,
            "flex": null,
            "flex_flow": null,
            "grid_area": null,
            "grid_auto_columns": null,
            "grid_auto_flow": null,
            "grid_auto_rows": null,
            "grid_column": null,
            "grid_gap": null,
            "grid_row": null,
            "grid_template_areas": null,
            "grid_template_columns": null,
            "grid_template_rows": null,
            "height": null,
            "justify_content": null,
            "justify_items": null,
            "left": null,
            "margin": null,
            "max_height": null,
            "max_width": null,
            "min_height": null,
            "min_width": null,
            "object_fit": null,
            "object_position": null,
            "order": null,
            "overflow": null,
            "overflow_x": null,
            "overflow_y": null,
            "padding": null,
            "right": null,
            "top": null,
            "visibility": null,
            "width": null
          }
        },
        "e20b5675d3784890a969a214e1de6d30": {
          "model_module": "@jupyter-widgets/base",
          "model_name": "LayoutModel",
          "model_module_version": "1.2.0",
          "state": {
            "_model_module": "@jupyter-widgets/base",
            "_model_module_version": "1.2.0",
            "_model_name": "LayoutModel",
            "_view_count": null,
            "_view_module": "@jupyter-widgets/base",
            "_view_module_version": "1.2.0",
            "_view_name": "LayoutView",
            "align_content": null,
            "align_items": null,
            "align_self": null,
            "border": null,
            "bottom": null,
            "display": null,
            "flex": null,
            "flex_flow": null,
            "grid_area": null,
            "grid_auto_columns": null,
            "grid_auto_flow": null,
            "grid_auto_rows": null,
            "grid_column": null,
            "grid_gap": null,
            "grid_row": null,
            "grid_template_areas": null,
            "grid_template_columns": null,
            "grid_template_rows": null,
            "height": null,
            "justify_content": null,
            "justify_items": null,
            "left": null,
            "margin": null,
            "max_height": null,
            "max_width": null,
            "min_height": null,
            "min_width": null,
            "object_fit": null,
            "object_position": null,
            "order": null,
            "overflow": null,
            "overflow_x": null,
            "overflow_y": null,
            "padding": null,
            "right": null,
            "top": null,
            "visibility": null,
            "width": null
          }
        },
        "8a9bb0ac3fc84ee5ae9d119474544cc3": {
          "model_module": "@jupyter-widgets/controls",
          "model_name": "DescriptionStyleModel",
          "model_module_version": "1.5.0",
          "state": {
            "_model_module": "@jupyter-widgets/controls",
            "_model_module_version": "1.5.0",
            "_model_name": "DescriptionStyleModel",
            "_view_count": null,
            "_view_module": "@jupyter-widgets/base",
            "_view_module_version": "1.2.0",
            "_view_name": "StyleView",
            "description_width": ""
          }
        },
        "8396442f4c40435194f6d9510a82cf72": {
          "model_module": "@jupyter-widgets/base",
          "model_name": "LayoutModel",
          "model_module_version": "1.2.0",
          "state": {
            "_model_module": "@jupyter-widgets/base",
            "_model_module_version": "1.2.0",
            "_model_name": "LayoutModel",
            "_view_count": null,
            "_view_module": "@jupyter-widgets/base",
            "_view_module_version": "1.2.0",
            "_view_name": "LayoutView",
            "align_content": null,
            "align_items": null,
            "align_self": null,
            "border": null,
            "bottom": null,
            "display": null,
            "flex": null,
            "flex_flow": null,
            "grid_area": null,
            "grid_auto_columns": null,
            "grid_auto_flow": null,
            "grid_auto_rows": null,
            "grid_column": null,
            "grid_gap": null,
            "grid_row": null,
            "grid_template_areas": null,
            "grid_template_columns": null,
            "grid_template_rows": null,
            "height": null,
            "justify_content": null,
            "justify_items": null,
            "left": null,
            "margin": null,
            "max_height": null,
            "max_width": null,
            "min_height": null,
            "min_width": null,
            "object_fit": null,
            "object_position": null,
            "order": null,
            "overflow": null,
            "overflow_x": null,
            "overflow_y": null,
            "padding": null,
            "right": null,
            "top": null,
            "visibility": null,
            "width": null
          }
        },
        "2025265357cd4bd5b48e5f6559b39902": {
          "model_module": "@jupyter-widgets/controls",
          "model_name": "ProgressStyleModel",
          "model_module_version": "1.5.0",
          "state": {
            "_model_module": "@jupyter-widgets/controls",
            "_model_module_version": "1.5.0",
            "_model_name": "ProgressStyleModel",
            "_view_count": null,
            "_view_module": "@jupyter-widgets/base",
            "_view_module_version": "1.2.0",
            "_view_name": "StyleView",
            "bar_color": null,
            "description_width": ""
          }
        },
        "723dd5858d594accbb4074a5af7a1b51": {
          "model_module": "@jupyter-widgets/base",
          "model_name": "LayoutModel",
          "model_module_version": "1.2.0",
          "state": {
            "_model_module": "@jupyter-widgets/base",
            "_model_module_version": "1.2.0",
            "_model_name": "LayoutModel",
            "_view_count": null,
            "_view_module": "@jupyter-widgets/base",
            "_view_module_version": "1.2.0",
            "_view_name": "LayoutView",
            "align_content": null,
            "align_items": null,
            "align_self": null,
            "border": null,
            "bottom": null,
            "display": null,
            "flex": null,
            "flex_flow": null,
            "grid_area": null,
            "grid_auto_columns": null,
            "grid_auto_flow": null,
            "grid_auto_rows": null,
            "grid_column": null,
            "grid_gap": null,
            "grid_row": null,
            "grid_template_areas": null,
            "grid_template_columns": null,
            "grid_template_rows": null,
            "height": null,
            "justify_content": null,
            "justify_items": null,
            "left": null,
            "margin": null,
            "max_height": null,
            "max_width": null,
            "min_height": null,
            "min_width": null,
            "object_fit": null,
            "object_position": null,
            "order": null,
            "overflow": null,
            "overflow_x": null,
            "overflow_y": null,
            "padding": null,
            "right": null,
            "top": null,
            "visibility": null,
            "width": null
          }
        },
        "1a5be5fd97ed443ca9555d5a98d48ee5": {
          "model_module": "@jupyter-widgets/controls",
          "model_name": "DescriptionStyleModel",
          "model_module_version": "1.5.0",
          "state": {
            "_model_module": "@jupyter-widgets/controls",
            "_model_module_version": "1.5.0",
            "_model_name": "DescriptionStyleModel",
            "_view_count": null,
            "_view_module": "@jupyter-widgets/base",
            "_view_module_version": "1.2.0",
            "_view_name": "StyleView",
            "description_width": ""
          }
        },
        "04527d029eb94eed9ed90abe4093eab7": {
          "model_module": "@jupyter-widgets/controls",
          "model_name": "HBoxModel",
          "model_module_version": "1.5.0",
          "state": {
            "_dom_classes": [],
            "_model_module": "@jupyter-widgets/controls",
            "_model_module_version": "1.5.0",
            "_model_name": "HBoxModel",
            "_view_count": null,
            "_view_module": "@jupyter-widgets/controls",
            "_view_module_version": "1.5.0",
            "_view_name": "HBoxView",
            "box_style": "",
            "children": [
              "IPY_MODEL_705935608b9549a6a846d85c1108ffd8",
              "IPY_MODEL_02e149ed75be4f9bbdee89a6ea909a79",
              "IPY_MODEL_cc5eef14c2654ee6875cebdf37a168ad"
            ],
            "layout": "IPY_MODEL_b15663509c39415082f9bf598a177763"
          }
        },
        "705935608b9549a6a846d85c1108ffd8": {
          "model_module": "@jupyter-widgets/controls",
          "model_name": "HTMLModel",
          "model_module_version": "1.5.0",
          "state": {
            "_dom_classes": [],
            "_model_module": "@jupyter-widgets/controls",
            "_model_module_version": "1.5.0",
            "_model_name": "HTMLModel",
            "_view_count": null,
            "_view_module": "@jupyter-widgets/controls",
            "_view_module_version": "1.5.0",
            "_view_name": "HTMLView",
            "description": "",
            "description_tooltip": null,
            "layout": "IPY_MODEL_ab4ba6b72cd645bfbb1c0f55301a7bff",
            "placeholder": "​",
            "style": "IPY_MODEL_1b859fa3243a480c89c3a85d87c43ad5",
            "value": "vocab.txt: 100%"
          }
        },
        "02e149ed75be4f9bbdee89a6ea909a79": {
          "model_module": "@jupyter-widgets/controls",
          "model_name": "FloatProgressModel",
          "model_module_version": "1.5.0",
          "state": {
            "_dom_classes": [],
            "_model_module": "@jupyter-widgets/controls",
            "_model_module_version": "1.5.0",
            "_model_name": "FloatProgressModel",
            "_view_count": null,
            "_view_module": "@jupyter-widgets/controls",
            "_view_module_version": "1.5.0",
            "_view_name": "ProgressView",
            "bar_style": "success",
            "description": "",
            "description_tooltip": null,
            "layout": "IPY_MODEL_88a5f23fff4d497a848f004a1911572b",
            "max": 231508,
            "min": 0,
            "orientation": "horizontal",
            "style": "IPY_MODEL_5de382d68b324bf6adf6de348c791feb",
            "value": 231508
          }
        },
        "cc5eef14c2654ee6875cebdf37a168ad": {
          "model_module": "@jupyter-widgets/controls",
          "model_name": "HTMLModel",
          "model_module_version": "1.5.0",
          "state": {
            "_dom_classes": [],
            "_model_module": "@jupyter-widgets/controls",
            "_model_module_version": "1.5.0",
            "_model_name": "HTMLModel",
            "_view_count": null,
            "_view_module": "@jupyter-widgets/controls",
            "_view_module_version": "1.5.0",
            "_view_name": "HTMLView",
            "description": "",
            "description_tooltip": null,
            "layout": "IPY_MODEL_d8a67d7fbc194cce83134bb087280665",
            "placeholder": "​",
            "style": "IPY_MODEL_7a2b7f81c4c147db8ad421894429459e",
            "value": " 232k/232k [00:00&lt;00:00, 3.28MB/s]"
          }
        },
        "b15663509c39415082f9bf598a177763": {
          "model_module": "@jupyter-widgets/base",
          "model_name": "LayoutModel",
          "model_module_version": "1.2.0",
          "state": {
            "_model_module": "@jupyter-widgets/base",
            "_model_module_version": "1.2.0",
            "_model_name": "LayoutModel",
            "_view_count": null,
            "_view_module": "@jupyter-widgets/base",
            "_view_module_version": "1.2.0",
            "_view_name": "LayoutView",
            "align_content": null,
            "align_items": null,
            "align_self": null,
            "border": null,
            "bottom": null,
            "display": null,
            "flex": null,
            "flex_flow": null,
            "grid_area": null,
            "grid_auto_columns": null,
            "grid_auto_flow": null,
            "grid_auto_rows": null,
            "grid_column": null,
            "grid_gap": null,
            "grid_row": null,
            "grid_template_areas": null,
            "grid_template_columns": null,
            "grid_template_rows": null,
            "height": null,
            "justify_content": null,
            "justify_items": null,
            "left": null,
            "margin": null,
            "max_height": null,
            "max_width": null,
            "min_height": null,
            "min_width": null,
            "object_fit": null,
            "object_position": null,
            "order": null,
            "overflow": null,
            "overflow_x": null,
            "overflow_y": null,
            "padding": null,
            "right": null,
            "top": null,
            "visibility": null,
            "width": null
          }
        },
        "ab4ba6b72cd645bfbb1c0f55301a7bff": {
          "model_module": "@jupyter-widgets/base",
          "model_name": "LayoutModel",
          "model_module_version": "1.2.0",
          "state": {
            "_model_module": "@jupyter-widgets/base",
            "_model_module_version": "1.2.0",
            "_model_name": "LayoutModel",
            "_view_count": null,
            "_view_module": "@jupyter-widgets/base",
            "_view_module_version": "1.2.0",
            "_view_name": "LayoutView",
            "align_content": null,
            "align_items": null,
            "align_self": null,
            "border": null,
            "bottom": null,
            "display": null,
            "flex": null,
            "flex_flow": null,
            "grid_area": null,
            "grid_auto_columns": null,
            "grid_auto_flow": null,
            "grid_auto_rows": null,
            "grid_column": null,
            "grid_gap": null,
            "grid_row": null,
            "grid_template_areas": null,
            "grid_template_columns": null,
            "grid_template_rows": null,
            "height": null,
            "justify_content": null,
            "justify_items": null,
            "left": null,
            "margin": null,
            "max_height": null,
            "max_width": null,
            "min_height": null,
            "min_width": null,
            "object_fit": null,
            "object_position": null,
            "order": null,
            "overflow": null,
            "overflow_x": null,
            "overflow_y": null,
            "padding": null,
            "right": null,
            "top": null,
            "visibility": null,
            "width": null
          }
        },
        "1b859fa3243a480c89c3a85d87c43ad5": {
          "model_module": "@jupyter-widgets/controls",
          "model_name": "DescriptionStyleModel",
          "model_module_version": "1.5.0",
          "state": {
            "_model_module": "@jupyter-widgets/controls",
            "_model_module_version": "1.5.0",
            "_model_name": "DescriptionStyleModel",
            "_view_count": null,
            "_view_module": "@jupyter-widgets/base",
            "_view_module_version": "1.2.0",
            "_view_name": "StyleView",
            "description_width": ""
          }
        },
        "88a5f23fff4d497a848f004a1911572b": {
          "model_module": "@jupyter-widgets/base",
          "model_name": "LayoutModel",
          "model_module_version": "1.2.0",
          "state": {
            "_model_module": "@jupyter-widgets/base",
            "_model_module_version": "1.2.0",
            "_model_name": "LayoutModel",
            "_view_count": null,
            "_view_module": "@jupyter-widgets/base",
            "_view_module_version": "1.2.0",
            "_view_name": "LayoutView",
            "align_content": null,
            "align_items": null,
            "align_self": null,
            "border": null,
            "bottom": null,
            "display": null,
            "flex": null,
            "flex_flow": null,
            "grid_area": null,
            "grid_auto_columns": null,
            "grid_auto_flow": null,
            "grid_auto_rows": null,
            "grid_column": null,
            "grid_gap": null,
            "grid_row": null,
            "grid_template_areas": null,
            "grid_template_columns": null,
            "grid_template_rows": null,
            "height": null,
            "justify_content": null,
            "justify_items": null,
            "left": null,
            "margin": null,
            "max_height": null,
            "max_width": null,
            "min_height": null,
            "min_width": null,
            "object_fit": null,
            "object_position": null,
            "order": null,
            "overflow": null,
            "overflow_x": null,
            "overflow_y": null,
            "padding": null,
            "right": null,
            "top": null,
            "visibility": null,
            "width": null
          }
        },
        "5de382d68b324bf6adf6de348c791feb": {
          "model_module": "@jupyter-widgets/controls",
          "model_name": "ProgressStyleModel",
          "model_module_version": "1.5.0",
          "state": {
            "_model_module": "@jupyter-widgets/controls",
            "_model_module_version": "1.5.0",
            "_model_name": "ProgressStyleModel",
            "_view_count": null,
            "_view_module": "@jupyter-widgets/base",
            "_view_module_version": "1.2.0",
            "_view_name": "StyleView",
            "bar_color": null,
            "description_width": ""
          }
        },
        "d8a67d7fbc194cce83134bb087280665": {
          "model_module": "@jupyter-widgets/base",
          "model_name": "LayoutModel",
          "model_module_version": "1.2.0",
          "state": {
            "_model_module": "@jupyter-widgets/base",
            "_model_module_version": "1.2.0",
            "_model_name": "LayoutModel",
            "_view_count": null,
            "_view_module": "@jupyter-widgets/base",
            "_view_module_version": "1.2.0",
            "_view_name": "LayoutView",
            "align_content": null,
            "align_items": null,
            "align_self": null,
            "border": null,
            "bottom": null,
            "display": null,
            "flex": null,
            "flex_flow": null,
            "grid_area": null,
            "grid_auto_columns": null,
            "grid_auto_flow": null,
            "grid_auto_rows": null,
            "grid_column": null,
            "grid_gap": null,
            "grid_row": null,
            "grid_template_areas": null,
            "grid_template_columns": null,
            "grid_template_rows": null,
            "height": null,
            "justify_content": null,
            "justify_items": null,
            "left": null,
            "margin": null,
            "max_height": null,
            "max_width": null,
            "min_height": null,
            "min_width": null,
            "object_fit": null,
            "object_position": null,
            "order": null,
            "overflow": null,
            "overflow_x": null,
            "overflow_y": null,
            "padding": null,
            "right": null,
            "top": null,
            "visibility": null,
            "width": null
          }
        },
        "7a2b7f81c4c147db8ad421894429459e": {
          "model_module": "@jupyter-widgets/controls",
          "model_name": "DescriptionStyleModel",
          "model_module_version": "1.5.0",
          "state": {
            "_model_module": "@jupyter-widgets/controls",
            "_model_module_version": "1.5.0",
            "_model_name": "DescriptionStyleModel",
            "_view_count": null,
            "_view_module": "@jupyter-widgets/base",
            "_view_module_version": "1.2.0",
            "_view_name": "StyleView",
            "description_width": ""
          }
        }
      }
    }
  },
  "nbformat": 4,
  "nbformat_minor": 0
}